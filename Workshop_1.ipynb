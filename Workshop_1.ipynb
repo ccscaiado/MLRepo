{
 "cells": [
  {
   "cell_type": "markdown",
   "metadata": {
    "id": "k3wMNUAzb7J_"
   },
   "source": [
    "## Machine Learning - Practical/Workshop 1 - Data Manipulation and Subset Selection\n",
    "\n",
    "### Preliminaries\n",
    "\n",
    "**Aim**: The aim of this workshop is to familiarize yourself with some basic concepts and data science tools in R, before exploring methods for model selection. You have already used R in Intro to Stats. Here we will introduce you to other tools in R that are frequently used in data science.\n",
    "\n",
    "**R software**: Here you will work with R via the Durham University cluster in Computer Science. If you want to use R on your own machine, we recommend Rstudio (you probably already installed it during Intro to Stats) or a Jupyter Notebook with an R kernel via Anaconda. You can also use other services such as Google Colab (https://colab.research.google.com/), GitHub Codespaces (https://github.com/features/codespaces)."
   ]
  },
  {
   "cell_type": "markdown",
   "metadata": {
    "id": "7jF_HYf9da8q"
   },
   "source": [
    "### Part I - Working with Data\n",
    "\n",
    "\n",
    "Datasets in R are often stored in special types of lists called dataframes (similar to tables in Excel and Pandas in Python). Dataframes are matrix-like blocks of values where each column represents a variable, and each row represents a case. Unlike generic lists, each sublist must contain the same number of elements.\n",
    "\n",
    "Say we want to create a table with the top 5 grossing films in the UK since 1989 (not corrected for inflation) based on the data in [Wikipedia](https://en.wikipedia.org/wiki/List_of_highest-grossing_films_in_the_United_Kingdom).\n",
    "\n",
    "1. The column headers for our initial table will be **Rank** and **Title**.\n",
    "2. The values in **Rank** are the numbers 1 to 5.\n",
    "3. The values in **Title** are Star Wars:The Force Awakens, Skyfall, No Time to Die, Spider-Man: No Way Home, and Avatar."
   ]
  },
  {
   "cell_type": "code",
   "execution_count": null,
   "metadata": {
    "colab": {
     "base_uri": "https://localhost:8080/",
     "height": 255
    },
    "id": "8--AQ2-jdVsa",
    "outputId": "35840a9b-7a02-46ea-fd9a-334aa3ca0983"
   },
   "outputs": [],
   "source": [
    "movies = data.frame(\n",
    "  Rank = 1:5,\n",
    "  Title = c(\"Star Wars: The Force Awakens\",\n",
    "            \"Skyfall\",\n",
    "            \"No Time to Die\",\n",
    "            \"Spiderman: No Way Home\",\n",
    "            \"Avatar\")\n",
    ")\n",
    "View(movies)"
   ]
  },
  {
   "cell_type": "markdown",
   "metadata": {
    "id": "2QZceL4det9z"
   },
   "source": [
    "Take a look at the [R Data Frames page](https://www.w3schools.com/r/r_data_frames.asp) in W3 Schools for more examples.\n",
    "\n",
    "In the snippet above, we use the View function instead of print. If using RStudio, View opens the dataset in a new tab that let's you preview your dataset, and filter and sort your data more easily. See [View function in R](https://www.statology.org/view-function-in-r/).\n",
    "\n",
    "Let's add two more columns to the dataframe to include the **Gross** in millions of pounds to the column after **Title**, and then the **Year** of release between the Title and Gross."
   ]
  },
  {
   "cell_type": "code",
   "execution_count": null,
   "metadata": {
    "colab": {
     "base_uri": "https://localhost:8080/",
     "height": 255
    },
    "id": "mhPyei4nhodZ",
    "outputId": "b1703ab7-26ca-4761-ed27-531039b159a9"
   },
   "outputs": [],
   "source": [
    "movies['Gross']=c(123.3, 102.8, 98.0, 97.2, 96.7)\n",
    "View(movies)"
   ]
  },
  {
   "cell_type": "code",
   "execution_count": null,
   "metadata": {
    "colab": {
     "base_uri": "https://localhost:8080/",
     "height": 255
    },
    "id": "iX6etXNAiF-Q",
    "outputId": "e98c5533-1871-4240-8713-7feb3a533f15"
   },
   "outputs": [],
   "source": [
    "movies['Year']=c(2015,2012,2021,2021,2009)\n",
    "movies=movies[,c('Rank','Title','Year','Gross')]\n",
    "View(movies)"
   ]
  },
  {
   "cell_type": "markdown",
   "metadata": {
    "id": "0F_e6gYZjX2v"
   },
   "source": [
    "There are many ways of adding new rows to a dataframe. If you only need to add one row to the end, you can do as below:"
   ]
  },
  {
   "cell_type": "code",
   "execution_count": null,
   "metadata": {
    "colab": {
     "base_uri": "https://localhost:8080/",
     "height": 286
    },
    "id": "ckvNIHF5jYwd",
    "outputId": "4a943200-981c-4a80-9bb0-ed188b9f0c67"
   },
   "outputs": [],
   "source": [
    "movies[6,]=c(6, \"Barbie\", 2023, 95.6)\n",
    "View(movies)"
   ]
  },
  {
   "cell_type": "markdown",
   "metadata": {
    "id": "7R7w8YQXj4a8"
   },
   "source": [
    "If you need to add multiple rows, you should create another dataset with the same columns as the original and **rbind** it to the previous one. Later on we will introduce you to the **tidyverse** which will give you more possibilities to execute tasks like this."
   ]
  },
  {
   "cell_type": "code",
   "execution_count": null,
   "metadata": {
    "colab": {
     "base_uri": "https://localhost:8080/",
     "height": 349
    },
    "id": "-Q4d4YJ3j31A",
    "outputId": "d523cb72-2f14-4bf7-bf94-3d5dc664f6fe"
   },
   "outputs": [],
   "source": [
    "movies_newrows = data.frame(\n",
    "  Rank = 7:8,\n",
    "  Title = c(\"Spectre\",\"Avengers:Endgame\"),\n",
    "  Year = c(2015, 2019),\n",
    "  Gross = c(95.2, 88.7)\n",
    ")\n",
    "movies = rbind(movies, movies_newrows)\n",
    "View(movies)"
   ]
  },
  {
   "cell_type": "markdown",
   "metadata": {
    "id": "-7_3eo5rkuyN"
   },
   "source": [
    "Now let's sort this dataset by **Year** in descending order. To do so without introducing new packages, we use the **order** function, not the sort function! The sort function returns the entries in sorted order but it doesn't work well with dataframes; the order function returns the indices of the sorted entries.\n",
    "\n",
    "By default sorting is ascending using the **order** function so you need to set the *decreasing* parameter to TRUE."
   ]
  },
  {
   "cell_type": "code",
   "execution_count": null,
   "metadata": {
    "colab": {
     "base_uri": "https://localhost:8080/",
     "height": 349
    },
    "id": "jRK7W5RUllAE",
    "outputId": "8b2a7f0b-ff7d-4cf3-8bde-42a74446f295"
   },
   "outputs": [],
   "source": [
    "View(\n",
    "  movies[order(movies$Year,decreasing=TRUE),]\n",
    ")"
   ]
  },
  {
   "cell_type": "markdown",
   "metadata": {
    "id": "S7KhrrcWmJcE"
   },
   "source": [
    "#### **Exercise 1**\n",
    "\n",
    "Add the next 4 movies to the dataset and sort it by year in **ascending** order:\n",
    "\n",
    "- Top Gun: Maverick - 2022 - 83.7\n",
    "- Star Wars: The Last Jedi - 2017 - 82.7\n",
    "- Titanic - 1998 - 82.7\n",
    "- Avatar: The Way of Water - 2022 - 76.9"
   ]
  },
  {
   "cell_type": "code",
   "execution_count": null,
   "metadata": {
    "id": "bbGTHGNotncf"
   },
   "outputs": [],
   "source": []
  },
  {
   "cell_type": "markdown",
   "metadata": {
    "editable": true,
    "id": "0iZS4xzatmof",
    "slideshow": {
     "slide_type": ""
    },
    "tags": []
   },
   "source": [
    "### Dataframes and Matrices\n",
    "\n",
    "Let's load the **Boston** dataset from the **MASS** library. Check your Intro to Stats workshops as a refresher on how to load libraries and datasets!\n",
    "\n",
    "The Boston dataset contains information on multiple attributes for suburbs in Boston, Massachusetts [Boston in R Documentation](https://stat.ethz.ch/R-manual/R-devel/library/MASS/html/Boston.html).\n",
    "\n"
   ]
  },
  {
   "cell_type": "code",
   "execution_count": null,
   "metadata": {
    "colab": {
     "base_uri": "https://localhost:8080/",
     "height": 412
    },
    "id": "C8wW3WHHuMA8",
    "outputId": "5142880f-5555-425f-eec8-524b4bded17b"
   },
   "outputs": [],
   "source": [
    "library(MASS)\n",
    "data(Boston)\n",
    "head(Boston, n=5) #The head function shows the first n rows in a dataframe"
   ]
  },
  {
   "cell_type": "markdown",
   "metadata": {
    "id": "QX6f5f_ky7bP"
   },
   "source": [
    "Most of the well-known machine learning models are implemented in R (and Python!), and are relatively easy to use. However, there will be cases where you'll need to prepare and transform your data using techniques seen elsewhere on the program (in Intro to Maths, for example, where you learned how to manipulate matrices and vectors, invert matrices, and solve systems of linear equations). There might also be cases where you want to implement your own version of a machine learning model and modify it; therefore, it is useful to know how to manipulate datasets and matrices in R (and understand how to move between those two data types!).\n",
    "\n",
    "In Intro to Stats Week 6, you studied linear regression models (check your notes!), and you were trying to fit the model:\n",
    "\n",
    "$Y=X\\beta+\\epsilon$\n",
    "\n",
    "and estimate the vector $\\beta$.  \n",
    "To estimate $\\beta$ using least squares, we want to compute:\n",
    "\n",
    "$\\hat{\\beta}=(X^TX)^{-1}X^TY$\n",
    "\n",
    "where $X^T$ is the transpose of $X$ and $A^{-1}$ represents the inverse of a matrix $A$."
   ]
  },
  {
   "cell_type": "markdown",
   "metadata": {
    "id": "AXAIfrabNQmj"
   },
   "source": [
    "#### **Briefly review Intro to Stats workshops 6 and 7 before continuing**\n",
    "\n",
    "You can also try your solutions here in this notebook to get familiar with the environment.\n",
    "\n",
    "Now, let's start with a simple example using linear regression and the Boston dataset."
   ]
  },
  {
   "cell_type": "markdown",
   "metadata": {
    "id": "fYyfLOav1sBo"
   },
   "source": [
    "\n",
    "\n",
    "#### **Exercise 2** - Fitting a linear regression model with **lm**\n",
    "\n",
    "Recall that you used the **lm** function to fit linear models in Intro to Stats.  Use the **lm** function here to fit a linear regression model with *medv* as the response variable and the following variables as the predictors: *rm*, *lstat*, *indus*, and *ptratio*.\n",
    "\n",
    "Save the estimated values of the regression coefficients to the vector **b_lm**."
   ]
  },
  {
   "cell_type": "code",
   "execution_count": null,
   "metadata": {
    "id": "otr5jtAiweAn"
   },
   "outputs": [],
   "source": []
  },
  {
   "cell_type": "markdown",
   "metadata": {
    "id": "Hf5tjL7nvfOl"
   },
   "source": [
    "Now let's try to calculate $\\hat\\beta$ using matrix operations via\n",
    "$\\hat{\\beta}=(X^TX)^{-1}X^TY$.\n",
    "\n",
    "To do that, we have to define $X$ and $Y$. $Y$ is the vector containing the values of *medv*. The $X$ matrix is the *design matrix* composed by a unit vector linked to the model intercept ($\\beta_0$), and the vectors containing the values of the variables *rm*, *lstat*, *indus*, and *ptratio*.\n",
    "\n",
    "Let's create Y and X:"
   ]
  },
  {
   "cell_type": "code",
   "execution_count": null,
   "metadata": {
    "colab": {
     "base_uri": "https://localhost:8080/",
     "height": 286
    },
    "id": "WJpphfXr5DUh",
    "outputId": "cbeef5da-151d-4306-efdb-9ccf00c4693e"
   },
   "outputs": [],
   "source": [
    "Y = Boston$medv\n",
    "Xpart = Boston[,c('rm','lstat','indus','ptratio')]\n",
    "X = cbind(1,Xpart) #this looks like cheating but it works for dataframes,\n",
    "#you can also use rep to first create a unit vector!\n",
    "head(X)"
   ]
  },
  {
   "cell_type": "markdown",
   "metadata": {
    "id": "QiRDsB395kXW"
   },
   "source": [
    "Now let's convert $Y$ and $X$ to matrices using the *as.matrix* function."
   ]
  },
  {
   "cell_type": "code",
   "execution_count": null,
   "metadata": {
    "id": "xfWIho0_5vEU"
   },
   "outputs": [],
   "source": [
    "Y = as.matrix(Y)\n",
    "X = as.matrix(X)"
   ]
  },
  {
   "cell_type": "markdown",
   "metadata": {
    "id": "CfGPIMX550JG"
   },
   "source": [
    "To transpose the matrix $X$, we use the **t** function. To invert it, we use the **solve** function. Or if you really want to practice your coding skills, you can implement your own inversion function later on!\n",
    "\n",
    "To multiply matrices and vectors in R, we use %*%."
   ]
  },
  {
   "cell_type": "code",
   "execution_count": null,
   "metadata": {
    "colab": {
     "base_uri": "https://localhost:8080/",
     "height": 223
    },
    "id": "VWJ0B_oM6F_H",
    "outputId": "206a70ba-eb2b-45cd-e049-9f142e7d064e"
   },
   "outputs": [],
   "source": [
    "trX = t(X)\n",
    "trXX = trX%*%X\n",
    "trXX"
   ]
  },
  {
   "cell_type": "code",
   "execution_count": null,
   "metadata": {
    "colab": {
     "base_uri": "https://localhost:8080/",
     "height": 223
    },
    "id": "x8_hZCOy6wHA",
    "outputId": "2b7fdd5d-b632-4c5a-ef5d-9b08fe0c2102"
   },
   "outputs": [],
   "source": [
    "inv_trXX = solve(trXX)\n",
    "inv_trXX"
   ]
  },
  {
   "cell_type": "markdown",
   "metadata": {
    "id": "8kdVVJRk66ti"
   },
   "source": [
    "#### **Exercise 3**\n",
    "\n",
    "Continue the calculations above and return a vector of length 5, assigning it the name **b_calc**. Compare your vector to **b_lm**."
   ]
  },
  {
   "cell_type": "code",
   "execution_count": null,
   "metadata": {
    "id": "gVHJIjdd63Fp"
   },
   "outputs": [],
   "source": []
  },
  {
   "cell_type": "markdown",
   "metadata": {
    "id": "YPmszLaG7uHo"
   },
   "source": [
    "#### **Exercise 4**\n",
    "\n",
    "Write down and execute the steps you would take to calculate the coefficients for\n",
    "\n",
    "*lm(medv~poly(lstat,2, raw=TRUE), data=Boston)*\n",
    "\n",
    "using matrices as above.\n",
    "\n",
    "What does the *raw=TRUE* option do in the *poly* function?\n",
    "Increase the power of the polynomial and check what happens to your matrices.\n",
    "\n",
    "Note: Remember, you can treat powers of *lstat* as separate feature variables"
   ]
  },
  {
   "cell_type": "code",
   "execution_count": null,
   "metadata": {
    "id": "272lrYeH8F_7"
   },
   "outputs": [],
   "source": []
  },
  {
   "cell_type": "markdown",
   "metadata": {
    "id": "5hbFIjiD5tID"
   },
   "source": [
    "### PART II - Best Subset Selection\n",
    "\n",
    "**Preparation**: Take a look at the contents for weeks 7 and 8 in Introduction to Statistics. We will build on some of the concepts you have already seen such as variable selection and model validation.\n",
    "\n",
    "#### **Introduction**: \n",
    "\n",
    "Above, we used the *Boston* dataset to fit a linear model using **lm**. We had *medv* as our response variable, and the following variables as our predictors: *rm*, *lstat*, *indus*, and *ptratio*."
   ]
  },
  {
   "cell_type": "code",
   "execution_count": null,
   "metadata": {
    "colab": {
     "base_uri": "https://localhost:8080/",
     "height": 388
    },
    "id": "BluCHYiK8jNv",
    "outputId": "d4027cc1-4d5a-4408-8f9e-25604d8e1198"
   },
   "outputs": [],
   "source": [
    "library(MASS)\n",
    "data(Boston)\n",
    "summary(lm(medv~rm+lstat+indus+ptratio, data=Boston))"
   ]
  },
  {
   "cell_type": "markdown",
   "metadata": {
    "id": "gwVY72Rt80jW"
   },
   "source": [
    "We can see that the $R^2$ for this model is 0.6786. This means that 67.86% of the variation in the quantitative measure of property median value (medv) can be explained by its linear regression on the 4 chosen predictor variables. We can also see that the adjusted $R^2$ is 0.6761.\n",
    "\n",
    "Say we now include the *nox* predictor in our model:"
   ]
  },
  {
   "cell_type": "code",
   "execution_count": null,
   "metadata": {
    "colab": {
     "base_uri": "https://localhost:8080/",
     "height": 406
    },
    "id": "RtJ9Pe_n9t0f",
    "outputId": "24faf7fe-f096-43ee-a3ee-272bede6c078"
   },
   "outputs": [],
   "source": [
    "summary(lm(medv~rm+lstat+indus+ptratio+nox, data=Boston))"
   ]
  },
  {
   "cell_type": "markdown",
   "metadata": {
    "id": "q-_KSkxJ9_Pd"
   },
   "source": [
    "The $R^2$ has moved from 67.61% to 67.99%. So, if we assume that a model with a higher $R^2$ is better, we would choose this model over the previous one. In this case, the adjusted $R^2$ is also higher at 0.6767.\n",
    "\n",
    "**Question:** Which measure should we use to compare the first and the second model? $R^2$ or the adjusted $R^2$? Discuss this with a colleague or a tutor before proceeding."
   ]
  },
  {
   "cell_type": "markdown",
   "metadata": {
    "id": "JsSD0P5wEKQX"
   },
   "source": [
    "\n",
    "SImilarly, if we add the variable *zn* to the first model, we will see a decrease in the adjusted $R^2$ in comparison to the first model. We can also see a decrease in the $R^2$ in comparison to the second model. Therefore, we would (possibly) conclude that we are better off with the second model."
   ]
  },
  {
   "cell_type": "code",
   "execution_count": null,
   "metadata": {
    "colab": {
     "base_uri": "https://localhost:8080/",
     "height": 406
    },
    "id": "BTvPeJL19-Za",
    "outputId": "e71940bc-8536-49d7-e074-5bbd64fece95"
   },
   "outputs": [],
   "source": [
    "summary(lm(medv~rm+lstat+indus+ptratio+zn, data=Boston))"
   ]
  },
  {
   "cell_type": "markdown",
   "metadata": {
    "id": "A2CbNifnAdb3"
   },
   "source": [
    "If we are to consider all possible linear combinations of variables, we would need to consider the model with no predictors (only an intercept) and the model with all predictors available. Let's see what the calculated $R^2$ and adjusted $R^2$ is for these models:"
   ]
  },
  {
   "cell_type": "code",
   "execution_count": null,
   "metadata": {
    "colab": {
     "base_uri": "https://localhost:8080/",
     "height": 282
    },
    "id": "rXebR4VIArRv",
    "outputId": "dfe9c9f0-3963-481c-9085-382a70f35e5a"
   },
   "outputs": [],
   "source": [
    "m0=lm(medv~1, data=Boston)\n",
    "summary(m0)"
   ]
  },
  {
   "cell_type": "code",
   "execution_count": null,
   "metadata": {
    "colab": {
     "base_uri": "https://localhost:8080/",
     "height": 547
    },
    "id": "XRgMa2ZnB-3y",
    "outputId": "6f67495b-0918-4b20-992d-56123d27a00e"
   },
   "outputs": [],
   "source": [
    "mfull=lm(medv~ . , data=Boston)\n",
    "summary(mfull)"
   ]
  },
  {
   "cell_type": "markdown",
   "metadata": {
    "id": "jYIbLL-1CAhu"
   },
   "source": [
    "**Question**: What happened to the $R^2$ and adjusted $R^2$ for the model $M_0$ above? Again discuss this with your colleagues or a tutor."
   ]
  },
  {
   "cell_type": "markdown",
   "metadata": {
    "id": "nl6H7JRY_XiO"
   },
   "source": [
    "#### **Best Subset Selection procedure**\n",
    "\n",
    "To perform best subset selection, we fit a separate regression model for each possible combination of the $p$ predictors. This is often broken up into stages, as follows:\n",
    "\n",
    "1. Let   $M_0$ denote the model which contains no predictors.\n",
    "\n",
    "2. For $k=1,2,\\ldots,p$:\n",
    "\n",
    "- Fit all $p \\choose k$  models that contain exactly $k$ predictors.\n",
    "- Pick the best among these\n",
    "  models and call it $M_k$. Here, best is defined as having the smallest RSS or largest $R^2$.\n",
    "\n",
    "3. Select a single best model from $M_0,M_1,\\ldots,M_p$ using a suitable measure such as the cross-validated prediction error $C_p$, BIC, adjusted $R^2$, etc.\n",
    "\n",
    "It is important to note that use of RSS or $R^2$ in step 2 of the above algorithm is acceptable because the models all have an equal number of predictors. We can't use RSS in step 3 because RSS decreases monotonically as the number of predictors included in the model increases."
   ]
  },
  {
   "cell_type": "markdown",
   "metadata": {
    "id": "bAQn_aR7FlTz"
   },
   "source": [
    "**Exercise**: Let's write a loop to try to find the best subset model for *medv*.\n",
    "\n",
    "*Note*: There are many different ways to complete this exercise using different libraries, data subsetting/manipulation, etc. The way we are going to attempt this now is not optimal but it is simple and easy to implement.\n",
    "\n",
    "**Step 1:** Say we want to fit the model *medv ~ nox*, we write:"
   ]
  },
  {
   "cell_type": "code",
   "execution_count": null,
   "metadata": {
    "colab": {
     "base_uri": "https://localhost:8080/",
     "height": 335
    },
    "id": "YosPdPQAAFdo",
    "outputId": "ecfc3489-db39-43c7-92b7-1b8ae01a3c8f"
   },
   "outputs": [],
   "source": [
    "m_example=lm(medv ~ nox, data=Boston)\n",
    "summary(m_example)"
   ]
  },
  {
   "cell_type": "markdown",
   "metadata": {
    "id": "nWBB3kgHIv7o"
   },
   "source": [
    "**Step 2:** And we can get the $R^2$ and adjusted $R^2$ for this model by calling:"
   ]
  },
  {
   "cell_type": "code",
   "execution_count": null,
   "metadata": {
    "colab": {
     "base_uri": "https://localhost:8080/"
    },
    "id": "DQDDk1tlI2xY",
    "outputId": "b8698700-ca72-4b57-ac76-388215e2528e"
   },
   "outputs": [],
   "source": [
    "r2_example = summary(m_example)$r.squared\n",
    "adjr2_example = summary(m_example)$adj.r.squared\n",
    "print(paste0(\"R2 = \",r2_example))\n",
    "print(paste0(\"Adj R2 = \",adjr2_example))"
   ]
  },
  {
   "cell_type": "markdown",
   "metadata": {
    "id": "jdhfGPsmIvx8"
   },
   "source": [
    "**Step 3:** When we called the model with all variables in the previous section, we used *lm(medv ~ ., data=Boston)*. The dot indicates we want to use all variables in the dataset Boston.\n",
    "\n",
    "Instead of writing *lm(medv ~ nox, data=Boston)* in the previous model, we could write *lm(medv ~ ., data=Boston[,c(5,14)])*.\n",
    "\n",
    "The 5th column in Boston corresponds to the variable *nox* and the last column (14th) corresponds to *medv*. So we have subsetted the dataset keeping only the columns of interest for this model."
   ]
  },
  {
   "cell_type": "code",
   "execution_count": null,
   "metadata": {
    "colab": {
     "base_uri": "https://localhost:8080/",
     "height": 335
    },
    "id": "6fCMjNofIvPr",
    "outputId": "9b72d3f5-8bdd-44ed-c0e1-420031f7622f"
   },
   "outputs": [],
   "source": [
    "summary(lm(medv ~ ., data=Boston[,c(5,14)]))"
   ]
  },
  {
   "cell_type": "markdown",
   "metadata": {
    "id": "G45PeKaGKkbd"
   },
   "source": [
    "**Step 4:** Putting everything together, we can write a simple loop to compare all models containing one variable, and saving their $R^2$ to a vector.  We also print some statements that inform us of the most relevant information from our calculations in an easy-to-read way."
   ]
  },
  {
   "cell_type": "code",
   "execution_count": null,
   "metadata": {
    "colab": {
     "base_uri": "https://localhost:8080/"
    },
    "id": "akn8WczEIgky",
    "outputId": "d4333083-a2fc-4fe2-cae6-dd4c0ab2991b"
   },
   "outputs": [],
   "source": [
    "r2_m1 = rep(NA,13)\n",
    "for (var in 1:13){\n",
    "  m_temp = lm(medv~ . , data = Boston[,c(var,14)])\n",
    "  r2_m1[var]=summary(m_temp)$r.squared\n",
    "}\n",
    "print(r2_m1)\n",
    "print(paste0(\"The maximum calcuated R2 is: \", round( max(r2_m1), 6 )))  # look at the help file for round.\n",
    "print(paste0(\"The index of the corresponding model is: \",which.max(r2_m1)))\n",
    "print(paste0(\"The relevant predictor is: \", names(Boston)[which.max(r2_m1)]))"
   ]
  },
  {
   "cell_type": "markdown",
   "metadata": {
    "id": "YP9eJU4mLY7f"
   },
   "source": [
    "**Step 5:** Say we now want to look at all models with 2 variables, we would have to find all pairwise combinations of predictors. To do this, we can use the function *combn*:"
   ]
  },
  {
   "cell_type": "code",
   "execution_count": null,
   "metadata": {
    "colab": {
     "base_uri": "https://localhost:8080/",
     "height": 97
    },
    "id": "QzaRzGSiJ3et",
    "outputId": "f9a22b3e-2634-4757-c307-358fb1ada92e"
   },
   "outputs": [],
   "source": [
    "all_pairs = combn(13,2)\n",
    "all_pairs\n",
    "dim(all_pairs)[2]"
   ]
  },
  {
   "cell_type": "markdown",
   "metadata": {
    "id": "ROzXI0MOM24C"
   },
   "source": [
    "**Step 6:** And we can use the same principle to subset the Boston dataset as before to generate the model using the variables in column 1 of *all_pairs*:"
   ]
  },
  {
   "cell_type": "code",
   "execution_count": null,
   "metadata": {
    "colab": {
     "base_uri": "https://localhost:8080/",
     "height": 353
    },
    "id": "1slBn_yjJ-cV",
    "outputId": "ad77ba30-c817-4fb9-8f48-9bbf2667b2f7"
   },
   "outputs": [],
   "source": [
    "summary(lm(medv ~ ., data = Boston[,c(all_pairs[,1],14)]))"
   ]
  },
  {
   "cell_type": "markdown",
   "metadata": {
    "id": "9uIBT_MpNFPq"
   },
   "source": [
    "**Step 7:** Now write a loop similar to the one in **Step 4** and find the model with the highest $R^2$ with two predictors."
   ]
  },
  {
   "cell_type": "code",
   "execution_count": null,
   "metadata": {
    "id": "PMCz5uydNrRb"
   },
   "outputs": [],
   "source": []
  },
  {
   "cell_type": "markdown",
   "metadata": {
    "id": "9nQSH0BBNqNn"
   },
   "source": [
    "**Step 8:** Repeat steps 5 to 7 and create a loop that returns the model with the highest value of $R^2$ for $1, 2, \\ldots, 13$ variables. Find a strategy to save the index for the relevant variables in each model, the corresponding $R^2$, and the adjusted $R^2$ for each."
   ]
  },
  {
   "cell_type": "code",
   "execution_count": null,
   "metadata": {
    "id": "eywenhpXMolJ"
   },
   "outputs": [],
   "source": []
  },
  {
   "cell_type": "markdown",
   "metadata": {
    "id": "t-iCg8D4OJ48"
   },
   "source": [
    "**Step 9:** Compare the adjusted $R^2$ for the models in **Step 8** and identify the best subset model."
   ]
  },
  {
   "cell_type": "markdown",
   "metadata": {
    "id": "zDBgZz1-OTmG"
   },
   "source": [
    "### **Painless best subset selection**\n",
    "\n",
    "Now that you have seen one way to implement subset selection, you should be ready to use functions that do this job for you without the need to implement your own loops.\n",
    "\n",
    "We use the library **leaps** to return the best subset model."
   ]
  },
  {
   "cell_type": "code",
   "execution_count": null,
   "metadata": {
    "colab": {
     "base_uri": "https://localhost:8080/",
     "height": 565
    },
    "id": "TZT15eGtURZ-",
    "outputId": "07572f72-d95d-48b5-c43e-ba24f1222640"
   },
   "outputs": [],
   "source": [
    "library(leaps)\n",
    "best_models = regsubsets(medv ~ ., data=Boston)\n",
    "summary(best_models)"
   ]
  },
  {
   "cell_type": "markdown",
   "metadata": {
    "id": "PSEXd9gqVccw"
   },
   "source": [
    "The *regsubsets* function returns 8 possible \"best subset\" models.  To return more (or less) models, you can change the argument *nvmax* (by default set to 8) within the summary function.  Therefore, to check the best model with 1 up to 13 variables, we run: "
   ]
  },
  {
   "cell_type": "code",
   "execution_count": null,
   "metadata": {},
   "outputs": [],
   "source": [
    "best_models = regsubsets(medv ~ ., data=Boston,  nvmax = 13)\n",
    "summary(best_models)"
   ]
  },
  {
   "cell_type": "markdown",
   "metadata": {},
   "source": [
    "To check the values that we can obtain from this summary object, you can use the *names* function:"
   ]
  },
  {
   "cell_type": "code",
   "execution_count": null,
   "metadata": {
    "colab": {
     "base_uri": "https://localhost:8080/",
     "height": 34
    },
    "id": "uYZuRIuSUSHw",
    "outputId": "66ccfb05-a460-451a-ee0b-23a5147ff4d7"
   },
   "outputs": [],
   "source": [
    "res_summary = summary(best_models)\n",
    "names(res_summary)"
   ]
  },
  {
   "cell_type": "markdown",
   "metadata": {},
   "source": [
    "From which we can see that we can obtain the adjusted $R^2$ values for the models using the *adjr2* component of our *summary* object: "
   ]
  },
  {
   "cell_type": "code",
   "execution_count": null,
   "metadata": {},
   "outputs": [],
   "source": [
    "res_summary$adjr2"
   ]
  },
  {
   "cell_type": "markdown",
   "metadata": {
    "id": "blesVVj4WKj9"
   },
   "source": [
    "and to identify the model with the highest adjusted $R^2$, we use the function **which.max**:"
   ]
  },
  {
   "cell_type": "code",
   "execution_count": null,
   "metadata": {
    "colab": {
     "base_uri": "https://localhost:8080/",
     "height": 34
    },
    "id": "Cga8g9VQVh8s",
    "outputId": "21a69136-c00d-4826-c22a-133ed06793bb"
   },
   "outputs": [],
   "source": [
    "which.max(res_summary$adjr2)"
   ]
  },
  {
   "cell_type": "markdown",
   "metadata": {
    "id": "OcR5aDclW2aX"
   },
   "source": [
    "The coefficients for model 11 are then given by:"
   ]
  },
  {
   "cell_type": "code",
   "execution_count": null,
   "metadata": {
    "colab": {
     "base_uri": "https://localhost:8080/"
    },
    "id": "bBOciOqAWSmp",
    "outputId": "663f2d90-af0d-4afa-a443-539c0bf307ef"
   },
   "outputs": [],
   "source": [
    "print(coef(best_models,11))"
   ]
  },
  {
   "cell_type": "markdown",
   "metadata": {},
   "source": [
    "We can construct the linear model corresponding to these variable as follows using:"
   ]
  },
  {
   "cell_type": "code",
   "execution_count": null,
   "metadata": {},
   "outputs": [],
   "source": [
    "lm(medv~crim+zn+chas+nox+rm+dis+rad+tax+ptratio+black+lstat, data=Boston)"
   ]
  },
  {
   "cell_type": "markdown",
   "metadata": {},
   "source": [
    "Alternatively, we can generate this linear model by reformulating the coefficient names in the best model into an expression that can be read by *lm*.  To do this, notice that we can call the names of the coefficients in the best model using *names*:"
   ]
  },
  {
   "cell_type": "code",
   "execution_count": null,
   "metadata": {},
   "outputs": [],
   "source": [
    "names(coef(best_models,11))"
   ]
  },
  {
   "cell_type": "markdown",
   "metadata": {},
   "source": [
    "We can then create a string expression of the model formula we require using *paste*, where we remove the first element as we do not wish to include the word _intercept_ within our model expression formula, and then link the words using _+_:"
   ]
  },
  {
   "cell_type": "code",
   "execution_count": null,
   "metadata": {},
   "outputs": [],
   "source": [
    "paste(names(coef(best_models,11))[-1],collapse=\"+\")"
   ]
  },
  {
   "cell_type": "markdown",
   "metadata": {},
   "source": [
    "We can then use this expression to *reformulate* the required linear model expression with response *medv*, with the argument *data* being used within *lm* as usual:"
   ]
  },
  {
   "cell_type": "code",
   "execution_count": null,
   "metadata": {
    "colab": {
     "base_uri": "https://localhost:8080/",
     "height": 477
    },
    "id": "HwyzzYP1W9-o",
    "outputId": "1cee1317-572c-4e3c-a8f0-8ecef2a8fce6",
    "scrolled": true
   },
   "outputs": [],
   "source": [
    "best_ss <- lm(reformulate(paste(names(coef(best_models,11))[-1],collapse=\"+\"),'medv'),data=Boston)\n",
    "summary( best_ss )"
   ]
  },
  {
   "cell_type": "markdown",
   "metadata": {
    "id": "Er5Mo-xXy_dZ"
   },
   "source": [
    "### Forwards and Backwards Subset Selection\n",
    "\n",
    "Forwards and backwards subset selection are similar techniques which do not make use of every possible combination of variables.\n",
    "\n",
    "**Forward selection**\n",
    "\n",
    "In the case of forwards subset selection, we start with the null model, and determine which of the $p$ single-predictor models has the highest $R^2$ value. We designate this model $M_1$.\n",
    "\n",
    "Next, rather than fitting each of the $p \\choose 2$ two-predictor models, we add each of the remaining $p-1$ predictor variables to $M_1$ and determine which of these models has the highest $R^2$ value. We then designate this model $M_2$.  We then generate $p-2$ models with three variables by adding each of the remaining $p-2$ variables to the variables included in $M_2$.  The model with highest $R^2$ value is denoted $M_3$.\n",
    "\n",
    "We continue in this fashion until we have our set of $p$ models $M_0,M_1,\\ldots,M_p$, from which we choose the \"best\" model using $C_p$, BIC, adjusted $R^2$, etc.\n",
    "\n",
    "**Backward selection**\n",
    "\n",
    "In the case of backwards subset selection, we start from the *full* model $M_p$ and *remove* a single variable at a time.\n",
    "\n",
    "The model from this set of $p$ models which has the highest $R^2$ value is designated $M_{p-1}$. We continue in this fashion until we reach the null model, $M_0$. We again choose the best model from $M_0,M_1,\\ldots,M_p$ based on $C_p$, BIC, adjusted $R^2$, etc.  \n",
    "\n",
    "\n",
    "#### Implementation using Leaps\n",
    "\n",
    "We can use the **leaps** package and *regsubsets* to conduct forward and backward selection, we just need to specify the method. To perform forward selection and select the best model using the adjust $R^2$, we include our method choice in the function call as follows."
   ]
  },
  {
   "cell_type": "code",
   "execution_count": null,
   "metadata": {
    "colab": {
     "base_uri": "https://localhost:8080/",
     "height": 512
    },
    "id": "SKqEoM360DaP",
    "outputId": "ce6a514c-9903-410e-81d4-7424074a98ab"
   },
   "outputs": [],
   "source": [
    "library(leaps)\n",
    "best_forward = regsubsets(medv ~ ., data=Boston, method=\"forward\", nvmax = 13)\n",
    "summary(best_forward)"
   ]
  },
  {
   "cell_type": "code",
   "execution_count": null,
   "metadata": {
    "colab": {
     "base_uri": "https://localhost:8080/"
    },
    "id": "nW7DaTSv0NmZ",
    "outputId": "e990a7aa-91b5-4d0e-e3a9-f864cdafe4ee"
   },
   "outputs": [],
   "source": [
    "forward_summary = summary(best_forward)\n",
    "forward_adjr2=which.max(forward_summary$adjr2)\n",
    "print(coef(best_forward,forward_adjr2))"
   ]
  },
  {
   "cell_type": "code",
   "execution_count": null,
   "metadata": {
    "colab": {
     "base_uri": "https://localhost:8080/",
     "height": 477
    },
    "id": "yCgfdaUD1KTL",
    "outputId": "6685a37a-680c-40d5-e729-5c29cb7e7055"
   },
   "outputs": [],
   "source": [
    "summary(lm(reformulate(paste(names(coef(best_forward,forward_adjr2))[-1],collapse=\"+\"),'medv'),data=Boston))"
   ]
  },
  {
   "cell_type": "markdown",
   "metadata": {
    "id": "4fURU8LX1jUO"
   },
   "source": [
    "In this case, the forward selection process leads to the same model as the one obtained using best subset selection.\n",
    "\n",
    "**Exercise:** Repeat the process above using *backward* as the method option. How different is this model from the best subset and forward models?"
   ]
  },
  {
   "cell_type": "code",
   "execution_count": null,
   "metadata": {
    "id": "LBfCzBeD1RT2"
   },
   "outputs": [],
   "source": []
  }
 ],
 "metadata": {
  "colab": {
   "provenance": []
  },
  "kernelspec": {
   "display_name": "R 4.3.3",
   "language": "R",
   "name": "ir4.4.0"
  },
  "language_info": {
   "codemirror_mode": "r",
   "file_extension": ".r",
   "mimetype": "text/x-r-source",
   "name": "R",
   "pygments_lexer": "r",
   "version": "4.3.3"
  }
 },
 "nbformat": 4,
 "nbformat_minor": 4
}
