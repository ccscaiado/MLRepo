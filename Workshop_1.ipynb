{
 "cells": [
  {
   "cell_type": "markdown",
   "metadata": {
    "id": "k3wMNUAzb7J_"
   },
   "source": [
    "## Machine Learning - Practical/Workshop 1 - Data Manipulation and Subset Selection\n",
    "\n",
    "### Preliminaries\n",
    "\n",
    "**Aim**: The aim of this workshop is to familiarize yourself with some basic concepts and data science tools in R, before exploring methods for model selection. You have already used R in Intro to Stats. Here we will introduce you to other tools in R that are frequently used in data science.\n",
    "\n",
    "**R software**: Here you will work with R via the Durham University cluster in Computer Science. If you want to use R on your own machine, we recommend Rstudio (you probably already installed it during Intro to Stats) or a Jupyter Notebook with an R kernel via Anaconda. You can also use other services such as Google Colab (https://colab.research.google.com/), GitHub Codespaces (https://github.com/features/codespaces)."
   ]
  },
  {
   "cell_type": "markdown",
   "metadata": {
    "id": "7jF_HYf9da8q"
   },
   "source": [
    "### Part I - Working with Data\n",
    "\n",
    "\n",
    "Datasets in R are often stored in special types of lists called dataframes (similar to tables in Excel and Pandas in Python). Dataframes are matrix-like blocks of values where each column represents a variable, and each row represents a case. Unlike generic lists, each sublist must contain the same number of elements.\n",
    "\n",
    "Say we want to create a table with the top 5 grossing films in the UK since 1989 (not corrected for inflation) based on the data in [Wikipedia](https://en.wikipedia.org/wiki/List_of_highest-grossing_films_in_the_United_Kingdom).\n",
    "\n",
    "1. The column headers for our initial table will be **Rank** and **Title**.\n",
    "2. The values in **Rank** are the numbers 1 to 5.\n",
    "3. The values in **Title** are Star Wars:The Force Awakens, Skyfall, No Time to Die, Spider-Man: No Way Home, and Avatar."
   ]
  },
  {
   "cell_type": "code",
   "execution_count": 5,
   "metadata": {
    "colab": {
     "base_uri": "https://localhost:8080/",
     "height": 255
    },
    "id": "8--AQ2-jdVsa",
    "outputId": "35840a9b-7a02-46ea-fd9a-334aa3ca0983"
   },
   "outputs": [
    {
     "data": {
      "text/html": [
       "<table class=\"dataframe\">\n",
       "<caption>A data.frame: 5 × 2</caption>\n",
       "<thead>\n",
       "\t<tr><th scope=col>Rank</th><th scope=col>Title</th></tr>\n",
       "\t<tr><th scope=col>&lt;int&gt;</th><th scope=col>&lt;chr&gt;</th></tr>\n",
       "</thead>\n",
       "<tbody>\n",
       "\t<tr><td>1</td><td>Star Wars: The Force Awakens</td></tr>\n",
       "\t<tr><td>2</td><td>Skyfall                     </td></tr>\n",
       "\t<tr><td>3</td><td>No Time to Die              </td></tr>\n",
       "\t<tr><td>4</td><td>Spiderman: No Way Home      </td></tr>\n",
       "\t<tr><td>5</td><td>Avatar                      </td></tr>\n",
       "</tbody>\n",
       "</table>\n"
      ],
      "text/latex": [
       "A data.frame: 5 × 2\n",
       "\\begin{tabular}{ll}\n",
       " Rank & Title\\\\\n",
       " <int> & <chr>\\\\\n",
       "\\hline\n",
       "\t 1 & Star Wars: The Force Awakens\\\\\n",
       "\t 2 & Skyfall                     \\\\\n",
       "\t 3 & No Time to Die              \\\\\n",
       "\t 4 & Spiderman: No Way Home      \\\\\n",
       "\t 5 & Avatar                      \\\\\n",
       "\\end{tabular}\n"
      ],
      "text/markdown": [
       "\n",
       "A data.frame: 5 × 2\n",
       "\n",
       "| Rank &lt;int&gt; | Title &lt;chr&gt; |\n",
       "|---|---|\n",
       "| 1 | Star Wars: The Force Awakens |\n",
       "| 2 | Skyfall                      |\n",
       "| 3 | No Time to Die               |\n",
       "| 4 | Spiderman: No Way Home       |\n",
       "| 5 | Avatar                       |\n",
       "\n"
      ],
      "text/plain": [
       "  Rank Title                       \n",
       "1 1    Star Wars: The Force Awakens\n",
       "2 2    Skyfall                     \n",
       "3 3    No Time to Die              \n",
       "4 4    Spiderman: No Way Home      \n",
       "5 5    Avatar                      "
      ]
     },
     "metadata": {},
     "output_type": "display_data"
    }
   ],
   "source": [
    "movies = data.frame(\n",
    "  Rank = 1:5,\n",
    "  Title = c(\"Star Wars: The Force Awakens\",\n",
    "            \"Skyfall\",\n",
    "            \"No Time to Die\",\n",
    "            \"Spiderman: No Way Home\",\n",
    "            \"Avatar\")\n",
    ")\n",
    "View(movies)"
   ]
  },
  {
   "cell_type": "markdown",
   "metadata": {
    "id": "2QZceL4det9z"
   },
   "source": [
    "Take a look at the [R Data Frames page](https://www.w3schools.com/r/r_data_frames.asp) in W3 Schools for more examples.\n",
    "\n",
    "In the snippet above, we use the View function instead of print. If using RStudio, View opens the dataset in a new tab that let's you preview your dataset, and filter and sort your data more easily. See [View function in R](https://www.statology.org/view-function-in-r/).\n",
    "\n",
    "Let's add two more columns to the dataframe to include the **Gross** in millions of pounds to the column after **Title**, and then the **Year** of release between the Title and Gross."
   ]
  },
  {
   "cell_type": "code",
   "execution_count": 6,
   "metadata": {
    "colab": {
     "base_uri": "https://localhost:8080/",
     "height": 255
    },
    "id": "mhPyei4nhodZ",
    "outputId": "b1703ab7-26ca-4761-ed27-531039b159a9"
   },
   "outputs": [
    {
     "data": {
      "text/html": [
       "<table class=\"dataframe\">\n",
       "<caption>A data.frame: 5 × 3</caption>\n",
       "<thead>\n",
       "\t<tr><th scope=col>Rank</th><th scope=col>Title</th><th scope=col>Gross</th></tr>\n",
       "\t<tr><th scope=col>&lt;int&gt;</th><th scope=col>&lt;chr&gt;</th><th scope=col>&lt;dbl&gt;</th></tr>\n",
       "</thead>\n",
       "<tbody>\n",
       "\t<tr><td>1</td><td>Star Wars: The Force Awakens</td><td>123.3</td></tr>\n",
       "\t<tr><td>2</td><td>Skyfall                     </td><td>102.8</td></tr>\n",
       "\t<tr><td>3</td><td>No Time to Die              </td><td> 98.0</td></tr>\n",
       "\t<tr><td>4</td><td>Spiderman: No Way Home      </td><td> 97.2</td></tr>\n",
       "\t<tr><td>5</td><td>Avatar                      </td><td> 96.7</td></tr>\n",
       "</tbody>\n",
       "</table>\n"
      ],
      "text/latex": [
       "A data.frame: 5 × 3\n",
       "\\begin{tabular}{lll}\n",
       " Rank & Title & Gross\\\\\n",
       " <int> & <chr> & <dbl>\\\\\n",
       "\\hline\n",
       "\t 1 & Star Wars: The Force Awakens & 123.3\\\\\n",
       "\t 2 & Skyfall                      & 102.8\\\\\n",
       "\t 3 & No Time to Die               &  98.0\\\\\n",
       "\t 4 & Spiderman: No Way Home       &  97.2\\\\\n",
       "\t 5 & Avatar                       &  96.7\\\\\n",
       "\\end{tabular}\n"
      ],
      "text/markdown": [
       "\n",
       "A data.frame: 5 × 3\n",
       "\n",
       "| Rank &lt;int&gt; | Title &lt;chr&gt; | Gross &lt;dbl&gt; |\n",
       "|---|---|---|\n",
       "| 1 | Star Wars: The Force Awakens | 123.3 |\n",
       "| 2 | Skyfall                      | 102.8 |\n",
       "| 3 | No Time to Die               |  98.0 |\n",
       "| 4 | Spiderman: No Way Home       |  97.2 |\n",
       "| 5 | Avatar                       |  96.7 |\n",
       "\n"
      ],
      "text/plain": [
       "  Rank Title                        Gross\n",
       "1 1    Star Wars: The Force Awakens 123.3\n",
       "2 2    Skyfall                      102.8\n",
       "3 3    No Time to Die                98.0\n",
       "4 4    Spiderman: No Way Home        97.2\n",
       "5 5    Avatar                        96.7"
      ]
     },
     "metadata": {},
     "output_type": "display_data"
    }
   ],
   "source": [
    "movies['Gross']=c(123.3, 102.8, 98.0, 97.2, 96.7)\n",
    "View(movies)"
   ]
  },
  {
   "cell_type": "code",
   "execution_count": 7,
   "metadata": {
    "colab": {
     "base_uri": "https://localhost:8080/",
     "height": 255
    },
    "id": "iX6etXNAiF-Q",
    "outputId": "e98c5533-1871-4240-8713-7feb3a533f15"
   },
   "outputs": [
    {
     "data": {
      "text/html": [
       "<table class=\"dataframe\">\n",
       "<caption>A data.frame: 5 × 4</caption>\n",
       "<thead>\n",
       "\t<tr><th scope=col>Rank</th><th scope=col>Title</th><th scope=col>Year</th><th scope=col>Gross</th></tr>\n",
       "\t<tr><th scope=col>&lt;int&gt;</th><th scope=col>&lt;chr&gt;</th><th scope=col>&lt;dbl&gt;</th><th scope=col>&lt;dbl&gt;</th></tr>\n",
       "</thead>\n",
       "<tbody>\n",
       "\t<tr><td>1</td><td>Star Wars: The Force Awakens</td><td>2015</td><td>123.3</td></tr>\n",
       "\t<tr><td>2</td><td>Skyfall                     </td><td>2012</td><td>102.8</td></tr>\n",
       "\t<tr><td>3</td><td>No Time to Die              </td><td>2021</td><td> 98.0</td></tr>\n",
       "\t<tr><td>4</td><td>Spiderman: No Way Home      </td><td>2021</td><td> 97.2</td></tr>\n",
       "\t<tr><td>5</td><td>Avatar                      </td><td>2009</td><td> 96.7</td></tr>\n",
       "</tbody>\n",
       "</table>\n"
      ],
      "text/latex": [
       "A data.frame: 5 × 4\n",
       "\\begin{tabular}{llll}\n",
       " Rank & Title & Year & Gross\\\\\n",
       " <int> & <chr> & <dbl> & <dbl>\\\\\n",
       "\\hline\n",
       "\t 1 & Star Wars: The Force Awakens & 2015 & 123.3\\\\\n",
       "\t 2 & Skyfall                      & 2012 & 102.8\\\\\n",
       "\t 3 & No Time to Die               & 2021 &  98.0\\\\\n",
       "\t 4 & Spiderman: No Way Home       & 2021 &  97.2\\\\\n",
       "\t 5 & Avatar                       & 2009 &  96.7\\\\\n",
       "\\end{tabular}\n"
      ],
      "text/markdown": [
       "\n",
       "A data.frame: 5 × 4\n",
       "\n",
       "| Rank &lt;int&gt; | Title &lt;chr&gt; | Year &lt;dbl&gt; | Gross &lt;dbl&gt; |\n",
       "|---|---|---|---|\n",
       "| 1 | Star Wars: The Force Awakens | 2015 | 123.3 |\n",
       "| 2 | Skyfall                      | 2012 | 102.8 |\n",
       "| 3 | No Time to Die               | 2021 |  98.0 |\n",
       "| 4 | Spiderman: No Way Home       | 2021 |  97.2 |\n",
       "| 5 | Avatar                       | 2009 |  96.7 |\n",
       "\n"
      ],
      "text/plain": [
       "  Rank Title                        Year Gross\n",
       "1 1    Star Wars: The Force Awakens 2015 123.3\n",
       "2 2    Skyfall                      2012 102.8\n",
       "3 3    No Time to Die               2021  98.0\n",
       "4 4    Spiderman: No Way Home       2021  97.2\n",
       "5 5    Avatar                       2009  96.7"
      ]
     },
     "metadata": {},
     "output_type": "display_data"
    }
   ],
   "source": [
    "movies['Year']=c(2015,2012,2021,2021,2009)\n",
    "movies=movies[,c('Rank','Title','Year','Gross')]\n",
    "View(movies)"
   ]
  },
  {
   "cell_type": "markdown",
   "metadata": {
    "id": "0F_e6gYZjX2v"
   },
   "source": [
    "There are many ways of adding new rows to a dataframe. If you only need to add one row to the end, you can do as below:"
   ]
  },
  {
   "cell_type": "code",
   "execution_count": 8,
   "metadata": {
    "colab": {
     "base_uri": "https://localhost:8080/",
     "height": 286
    },
    "id": "ckvNIHF5jYwd",
    "outputId": "4a943200-981c-4a80-9bb0-ed188b9f0c67"
   },
   "outputs": [
    {
     "data": {
      "text/html": [
       "<table class=\"dataframe\">\n",
       "<caption>A data.frame: 6 × 4</caption>\n",
       "<thead>\n",
       "\t<tr><th></th><th scope=col>Rank</th><th scope=col>Title</th><th scope=col>Year</th><th scope=col>Gross</th></tr>\n",
       "\t<tr><th></th><th scope=col>&lt;chr&gt;</th><th scope=col>&lt;chr&gt;</th><th scope=col>&lt;chr&gt;</th><th scope=col>&lt;chr&gt;</th></tr>\n",
       "</thead>\n",
       "<tbody>\n",
       "\t<tr><th scope=row>1</th><td>1</td><td>Star Wars: The Force Awakens</td><td>2015</td><td>123.3</td></tr>\n",
       "\t<tr><th scope=row>2</th><td>2</td><td>Skyfall                     </td><td>2012</td><td>102.8</td></tr>\n",
       "\t<tr><th scope=row>3</th><td>3</td><td>No Time to Die              </td><td>2021</td><td>98   </td></tr>\n",
       "\t<tr><th scope=row>4</th><td>4</td><td>Spiderman: No Way Home      </td><td>2021</td><td>97.2 </td></tr>\n",
       "\t<tr><th scope=row>5</th><td>5</td><td>Avatar                      </td><td>2009</td><td>96.7 </td></tr>\n",
       "\t<tr><th scope=row>6</th><td>6</td><td>Barbie                      </td><td>2023</td><td>95.6 </td></tr>\n",
       "</tbody>\n",
       "</table>\n"
      ],
      "text/latex": [
       "A data.frame: 6 × 4\n",
       "\\begin{tabular}{r|llll}\n",
       "  & Rank & Title & Year & Gross\\\\\n",
       "  & <chr> & <chr> & <chr> & <chr>\\\\\n",
       "\\hline\n",
       "\t1 & 1 & Star Wars: The Force Awakens & 2015 & 123.3\\\\\n",
       "\t2 & 2 & Skyfall                      & 2012 & 102.8\\\\\n",
       "\t3 & 3 & No Time to Die               & 2021 & 98   \\\\\n",
       "\t4 & 4 & Spiderman: No Way Home       & 2021 & 97.2 \\\\\n",
       "\t5 & 5 & Avatar                       & 2009 & 96.7 \\\\\n",
       "\t6 & 6 & Barbie                       & 2023 & 95.6 \\\\\n",
       "\\end{tabular}\n"
      ],
      "text/markdown": [
       "\n",
       "A data.frame: 6 × 4\n",
       "\n",
       "| <!--/--> | Rank &lt;chr&gt; | Title &lt;chr&gt; | Year &lt;chr&gt; | Gross &lt;chr&gt; |\n",
       "|---|---|---|---|---|\n",
       "| 1 | 1 | Star Wars: The Force Awakens | 2015 | 123.3 |\n",
       "| 2 | 2 | Skyfall                      | 2012 | 102.8 |\n",
       "| 3 | 3 | No Time to Die               | 2021 | 98    |\n",
       "| 4 | 4 | Spiderman: No Way Home       | 2021 | 97.2  |\n",
       "| 5 | 5 | Avatar                       | 2009 | 96.7  |\n",
       "| 6 | 6 | Barbie                       | 2023 | 95.6  |\n",
       "\n"
      ],
      "text/plain": [
       "  Rank Title                        Year Gross\n",
       "1 1    Star Wars: The Force Awakens 2015 123.3\n",
       "2 2    Skyfall                      2012 102.8\n",
       "3 3    No Time to Die               2021 98   \n",
       "4 4    Spiderman: No Way Home       2021 97.2 \n",
       "5 5    Avatar                       2009 96.7 \n",
       "6 6    Barbie                       2023 95.6 "
      ]
     },
     "metadata": {},
     "output_type": "display_data"
    }
   ],
   "source": [
    "movies[6,]=c(6, \"Barbie\", 2023, 95.6)\n",
    "View(movies)"
   ]
  },
  {
   "cell_type": "markdown",
   "metadata": {
    "id": "7R7w8YQXj4a8"
   },
   "source": [
    "If you need to add multiple rows, you should create another dataset with the same columns as the original and **rbind** it to the previous one. Later on we will introduce you to the **tidyverse** which will give you more possibilities to execute tasks like this."
   ]
  },
  {
   "cell_type": "code",
   "execution_count": 9,
   "metadata": {
    "colab": {
     "base_uri": "https://localhost:8080/",
     "height": 349
    },
    "id": "-Q4d4YJ3j31A",
    "outputId": "d523cb72-2f14-4bf7-bf94-3d5dc664f6fe"
   },
   "outputs": [
    {
     "data": {
      "text/html": [
       "<table class=\"dataframe\">\n",
       "<caption>A data.frame: 8 × 4</caption>\n",
       "<thead>\n",
       "\t<tr><th scope=col>Rank</th><th scope=col>Title</th><th scope=col>Year</th><th scope=col>Gross</th></tr>\n",
       "\t<tr><th scope=col>&lt;chr&gt;</th><th scope=col>&lt;chr&gt;</th><th scope=col>&lt;chr&gt;</th><th scope=col>&lt;chr&gt;</th></tr>\n",
       "</thead>\n",
       "<tbody>\n",
       "\t<tr><td>1</td><td>Star Wars: The Force Awakens</td><td>2015</td><td>123.3</td></tr>\n",
       "\t<tr><td>2</td><td>Skyfall                     </td><td>2012</td><td>102.8</td></tr>\n",
       "\t<tr><td>3</td><td>No Time to Die              </td><td>2021</td><td>98   </td></tr>\n",
       "\t<tr><td>4</td><td>Spiderman: No Way Home      </td><td>2021</td><td>97.2 </td></tr>\n",
       "\t<tr><td>5</td><td>Avatar                      </td><td>2009</td><td>96.7 </td></tr>\n",
       "\t<tr><td>6</td><td>Barbie                      </td><td>2023</td><td>95.6 </td></tr>\n",
       "\t<tr><td>7</td><td>Spectre                     </td><td>2015</td><td>95.2 </td></tr>\n",
       "\t<tr><td>8</td><td>Avengers:Endgame            </td><td>2019</td><td>88.7 </td></tr>\n",
       "</tbody>\n",
       "</table>\n"
      ],
      "text/latex": [
       "A data.frame: 8 × 4\n",
       "\\begin{tabular}{llll}\n",
       " Rank & Title & Year & Gross\\\\\n",
       " <chr> & <chr> & <chr> & <chr>\\\\\n",
       "\\hline\n",
       "\t 1 & Star Wars: The Force Awakens & 2015 & 123.3\\\\\n",
       "\t 2 & Skyfall                      & 2012 & 102.8\\\\\n",
       "\t 3 & No Time to Die               & 2021 & 98   \\\\\n",
       "\t 4 & Spiderman: No Way Home       & 2021 & 97.2 \\\\\n",
       "\t 5 & Avatar                       & 2009 & 96.7 \\\\\n",
       "\t 6 & Barbie                       & 2023 & 95.6 \\\\\n",
       "\t 7 & Spectre                      & 2015 & 95.2 \\\\\n",
       "\t 8 & Avengers:Endgame             & 2019 & 88.7 \\\\\n",
       "\\end{tabular}\n"
      ],
      "text/markdown": [
       "\n",
       "A data.frame: 8 × 4\n",
       "\n",
       "| Rank &lt;chr&gt; | Title &lt;chr&gt; | Year &lt;chr&gt; | Gross &lt;chr&gt; |\n",
       "|---|---|---|---|\n",
       "| 1 | Star Wars: The Force Awakens | 2015 | 123.3 |\n",
       "| 2 | Skyfall                      | 2012 | 102.8 |\n",
       "| 3 | No Time to Die               | 2021 | 98    |\n",
       "| 4 | Spiderman: No Way Home       | 2021 | 97.2  |\n",
       "| 5 | Avatar                       | 2009 | 96.7  |\n",
       "| 6 | Barbie                       | 2023 | 95.6  |\n",
       "| 7 | Spectre                      | 2015 | 95.2  |\n",
       "| 8 | Avengers:Endgame             | 2019 | 88.7  |\n",
       "\n"
      ],
      "text/plain": [
       "  Rank Title                        Year Gross\n",
       "1 1    Star Wars: The Force Awakens 2015 123.3\n",
       "2 2    Skyfall                      2012 102.8\n",
       "3 3    No Time to Die               2021 98   \n",
       "4 4    Spiderman: No Way Home       2021 97.2 \n",
       "5 5    Avatar                       2009 96.7 \n",
       "6 6    Barbie                       2023 95.6 \n",
       "7 7    Spectre                      2015 95.2 \n",
       "8 8    Avengers:Endgame             2019 88.7 "
      ]
     },
     "metadata": {},
     "output_type": "display_data"
    }
   ],
   "source": [
    "movies_newrows = data.frame(\n",
    "  Rank = 7:8,\n",
    "  Title = c(\"Spectre\",\"Avengers:Endgame\"),\n",
    "  Year = c(2015, 2019),\n",
    "  Gross = c(95.2, 88.7)\n",
    ")\n",
    "movies = rbind(movies, movies_newrows)\n",
    "View(movies)"
   ]
  },
  {
   "cell_type": "markdown",
   "metadata": {
    "id": "-7_3eo5rkuyN"
   },
   "source": [
    "Now let's sort this dataset by **Year** in descending order. To do so without introducing new packages, we use the **order** function, not the sort function! The sort function returns the entries in sorted order but it doesn't work well with dataframes; the order function returns the indices of the sorted entries.\n",
    "\n",
    "By default sorting is ascending using the **order** function so you need to set the *decreasing* parameter to TRUE."
   ]
  },
  {
   "cell_type": "code",
   "execution_count": 10,
   "metadata": {
    "colab": {
     "base_uri": "https://localhost:8080/",
     "height": 349
    },
    "id": "jRK7W5RUllAE",
    "outputId": "8b2a7f0b-ff7d-4cf3-8bde-42a74446f295"
   },
   "outputs": [
    {
     "data": {
      "text/html": [
       "<table class=\"dataframe\">\n",
       "<caption>A data.frame: 8 × 4</caption>\n",
       "<thead>\n",
       "\t<tr><th></th><th scope=col>Rank</th><th scope=col>Title</th><th scope=col>Year</th><th scope=col>Gross</th></tr>\n",
       "\t<tr><th></th><th scope=col>&lt;chr&gt;</th><th scope=col>&lt;chr&gt;</th><th scope=col>&lt;chr&gt;</th><th scope=col>&lt;chr&gt;</th></tr>\n",
       "</thead>\n",
       "<tbody>\n",
       "\t<tr><th scope=row>6</th><td>6</td><td>Barbie                      </td><td>2023</td><td>95.6 </td></tr>\n",
       "\t<tr><th scope=row>3</th><td>3</td><td>No Time to Die              </td><td>2021</td><td>98   </td></tr>\n",
       "\t<tr><th scope=row>4</th><td>4</td><td>Spiderman: No Way Home      </td><td>2021</td><td>97.2 </td></tr>\n",
       "\t<tr><th scope=row>8</th><td>8</td><td>Avengers:Endgame            </td><td>2019</td><td>88.7 </td></tr>\n",
       "\t<tr><th scope=row>1</th><td>1</td><td>Star Wars: The Force Awakens</td><td>2015</td><td>123.3</td></tr>\n",
       "\t<tr><th scope=row>7</th><td>7</td><td>Spectre                     </td><td>2015</td><td>95.2 </td></tr>\n",
       "\t<tr><th scope=row>2</th><td>2</td><td>Skyfall                     </td><td>2012</td><td>102.8</td></tr>\n",
       "\t<tr><th scope=row>5</th><td>5</td><td>Avatar                      </td><td>2009</td><td>96.7 </td></tr>\n",
       "</tbody>\n",
       "</table>\n"
      ],
      "text/latex": [
       "A data.frame: 8 × 4\n",
       "\\begin{tabular}{r|llll}\n",
       "  & Rank & Title & Year & Gross\\\\\n",
       "  & <chr> & <chr> & <chr> & <chr>\\\\\n",
       "\\hline\n",
       "\t6 & 6 & Barbie                       & 2023 & 95.6 \\\\\n",
       "\t3 & 3 & No Time to Die               & 2021 & 98   \\\\\n",
       "\t4 & 4 & Spiderman: No Way Home       & 2021 & 97.2 \\\\\n",
       "\t8 & 8 & Avengers:Endgame             & 2019 & 88.7 \\\\\n",
       "\t1 & 1 & Star Wars: The Force Awakens & 2015 & 123.3\\\\\n",
       "\t7 & 7 & Spectre                      & 2015 & 95.2 \\\\\n",
       "\t2 & 2 & Skyfall                      & 2012 & 102.8\\\\\n",
       "\t5 & 5 & Avatar                       & 2009 & 96.7 \\\\\n",
       "\\end{tabular}\n"
      ],
      "text/markdown": [
       "\n",
       "A data.frame: 8 × 4\n",
       "\n",
       "| <!--/--> | Rank &lt;chr&gt; | Title &lt;chr&gt; | Year &lt;chr&gt; | Gross &lt;chr&gt; |\n",
       "|---|---|---|---|---|\n",
       "| 6 | 6 | Barbie                       | 2023 | 95.6  |\n",
       "| 3 | 3 | No Time to Die               | 2021 | 98    |\n",
       "| 4 | 4 | Spiderman: No Way Home       | 2021 | 97.2  |\n",
       "| 8 | 8 | Avengers:Endgame             | 2019 | 88.7  |\n",
       "| 1 | 1 | Star Wars: The Force Awakens | 2015 | 123.3 |\n",
       "| 7 | 7 | Spectre                      | 2015 | 95.2  |\n",
       "| 2 | 2 | Skyfall                      | 2012 | 102.8 |\n",
       "| 5 | 5 | Avatar                       | 2009 | 96.7  |\n",
       "\n"
      ],
      "text/plain": [
       "  Rank Title                        Year Gross\n",
       "6 6    Barbie                       2023 95.6 \n",
       "3 3    No Time to Die               2021 98   \n",
       "4 4    Spiderman: No Way Home       2021 97.2 \n",
       "8 8    Avengers:Endgame             2019 88.7 \n",
       "1 1    Star Wars: The Force Awakens 2015 123.3\n",
       "7 7    Spectre                      2015 95.2 \n",
       "2 2    Skyfall                      2012 102.8\n",
       "5 5    Avatar                       2009 96.7 "
      ]
     },
     "metadata": {},
     "output_type": "display_data"
    }
   ],
   "source": [
    "View(\n",
    "  movies[order(movies$Year,decreasing=TRUE),]\n",
    ")"
   ]
  },
  {
   "cell_type": "markdown",
   "metadata": {
    "id": "S7KhrrcWmJcE"
   },
   "source": [
    "#### **Exercise 1**\n",
    "\n",
    "Add the next 4 movies to the dataset and sort it by year in **ascending** order:\n",
    "\n",
    "- Top Gun: Maverick - 2022 - 83.7\n",
    "- Star Wars: The Last Jedi - 2017 - 82.7\n",
    "- Titanic - 1998 - 82.7\n",
    "- Avatar: The Way of Water - 2022 - 76.9"
   ]
  },
  {
   "cell_type": "code",
   "execution_count": null,
   "metadata": {
    "id": "bbGTHGNotncf"
   },
   "outputs": [],
   "source": []
  },
  {
   "cell_type": "markdown",
   "metadata": {
    "id": "0iZS4xzatmof"
   },
   "source": [
    "### Dataframes and Matrices\n",
    "\n",
    "Let's load the **Boston** dataset from the **MASS** library. Check your Intro to Stats workshops as a refresher on how to load libraries and datasets!\n",
    "\n",
    "The Boston dataset contains information on multiple attributes for suburbs in Boston, Massachusetts [Boston in R Documentation](https://stat.ethz.ch/R-manual/R-devel/library/MASS/html/Boston.html).\n",
    "\n"
   ]
  },
  {
   "cell_type": "code",
   "execution_count": 38,
   "metadata": {
    "colab": {
     "base_uri": "https://localhost:8080/",
     "height": 412
    },
    "id": "C8wW3WHHuMA8",
    "outputId": "5142880f-5555-425f-eec8-524b4bded17b"
   },
   "outputs": [
    {
     "data": {
      "text/html": [
       "<table class=\"dataframe\">\n",
       "<caption>A data.frame: 5 × 14</caption>\n",
       "<thead>\n",
       "\t<tr><th></th><th scope=col>crim</th><th scope=col>zn</th><th scope=col>indus</th><th scope=col>chas</th><th scope=col>nox</th><th scope=col>rm</th><th scope=col>age</th><th scope=col>dis</th><th scope=col>rad</th><th scope=col>tax</th><th scope=col>ptratio</th><th scope=col>black</th><th scope=col>lstat</th><th scope=col>medv</th></tr>\n",
       "\t<tr><th></th><th scope=col>&lt;dbl&gt;</th><th scope=col>&lt;dbl&gt;</th><th scope=col>&lt;dbl&gt;</th><th scope=col>&lt;int&gt;</th><th scope=col>&lt;dbl&gt;</th><th scope=col>&lt;dbl&gt;</th><th scope=col>&lt;dbl&gt;</th><th scope=col>&lt;dbl&gt;</th><th scope=col>&lt;int&gt;</th><th scope=col>&lt;dbl&gt;</th><th scope=col>&lt;dbl&gt;</th><th scope=col>&lt;dbl&gt;</th><th scope=col>&lt;dbl&gt;</th><th scope=col>&lt;dbl&gt;</th></tr>\n",
       "</thead>\n",
       "<tbody>\n",
       "\t<tr><th scope=row>1</th><td>0.00632</td><td>18</td><td>2.31</td><td>0</td><td>0.538</td><td>6.575</td><td>65.2</td><td>4.0900</td><td>1</td><td>296</td><td>15.3</td><td>396.90</td><td>4.98</td><td>24.0</td></tr>\n",
       "\t<tr><th scope=row>2</th><td>0.02731</td><td> 0</td><td>7.07</td><td>0</td><td>0.469</td><td>6.421</td><td>78.9</td><td>4.9671</td><td>2</td><td>242</td><td>17.8</td><td>396.90</td><td>9.14</td><td>21.6</td></tr>\n",
       "\t<tr><th scope=row>3</th><td>0.02729</td><td> 0</td><td>7.07</td><td>0</td><td>0.469</td><td>7.185</td><td>61.1</td><td>4.9671</td><td>2</td><td>242</td><td>17.8</td><td>392.83</td><td>4.03</td><td>34.7</td></tr>\n",
       "\t<tr><th scope=row>4</th><td>0.03237</td><td> 0</td><td>2.18</td><td>0</td><td>0.458</td><td>6.998</td><td>45.8</td><td>6.0622</td><td>3</td><td>222</td><td>18.7</td><td>394.63</td><td>2.94</td><td>33.4</td></tr>\n",
       "\t<tr><th scope=row>5</th><td>0.06905</td><td> 0</td><td>2.18</td><td>0</td><td>0.458</td><td>7.147</td><td>54.2</td><td>6.0622</td><td>3</td><td>222</td><td>18.7</td><td>396.90</td><td>5.33</td><td>36.2</td></tr>\n",
       "</tbody>\n",
       "</table>\n"
      ],
      "text/latex": [
       "A data.frame: 5 × 14\n",
       "\\begin{tabular}{r|llllllllllllll}\n",
       "  & crim & zn & indus & chas & nox & rm & age & dis & rad & tax & ptratio & black & lstat & medv\\\\\n",
       "  & <dbl> & <dbl> & <dbl> & <int> & <dbl> & <dbl> & <dbl> & <dbl> & <int> & <dbl> & <dbl> & <dbl> & <dbl> & <dbl>\\\\\n",
       "\\hline\n",
       "\t1 & 0.00632 & 18 & 2.31 & 0 & 0.538 & 6.575 & 65.2 & 4.0900 & 1 & 296 & 15.3 & 396.90 & 4.98 & 24.0\\\\\n",
       "\t2 & 0.02731 &  0 & 7.07 & 0 & 0.469 & 6.421 & 78.9 & 4.9671 & 2 & 242 & 17.8 & 396.90 & 9.14 & 21.6\\\\\n",
       "\t3 & 0.02729 &  0 & 7.07 & 0 & 0.469 & 7.185 & 61.1 & 4.9671 & 2 & 242 & 17.8 & 392.83 & 4.03 & 34.7\\\\\n",
       "\t4 & 0.03237 &  0 & 2.18 & 0 & 0.458 & 6.998 & 45.8 & 6.0622 & 3 & 222 & 18.7 & 394.63 & 2.94 & 33.4\\\\\n",
       "\t5 & 0.06905 &  0 & 2.18 & 0 & 0.458 & 7.147 & 54.2 & 6.0622 & 3 & 222 & 18.7 & 396.90 & 5.33 & 36.2\\\\\n",
       "\\end{tabular}\n"
      ],
      "text/markdown": [
       "\n",
       "A data.frame: 5 × 14\n",
       "\n",
       "| <!--/--> | crim &lt;dbl&gt; | zn &lt;dbl&gt; | indus &lt;dbl&gt; | chas &lt;int&gt; | nox &lt;dbl&gt; | rm &lt;dbl&gt; | age &lt;dbl&gt; | dis &lt;dbl&gt; | rad &lt;int&gt; | tax &lt;dbl&gt; | ptratio &lt;dbl&gt; | black &lt;dbl&gt; | lstat &lt;dbl&gt; | medv &lt;dbl&gt; |\n",
       "|---|---|---|---|---|---|---|---|---|---|---|---|---|---|---|\n",
       "| 1 | 0.00632 | 18 | 2.31 | 0 | 0.538 | 6.575 | 65.2 | 4.0900 | 1 | 296 | 15.3 | 396.90 | 4.98 | 24.0 |\n",
       "| 2 | 0.02731 |  0 | 7.07 | 0 | 0.469 | 6.421 | 78.9 | 4.9671 | 2 | 242 | 17.8 | 396.90 | 9.14 | 21.6 |\n",
       "| 3 | 0.02729 |  0 | 7.07 | 0 | 0.469 | 7.185 | 61.1 | 4.9671 | 2 | 242 | 17.8 | 392.83 | 4.03 | 34.7 |\n",
       "| 4 | 0.03237 |  0 | 2.18 | 0 | 0.458 | 6.998 | 45.8 | 6.0622 | 3 | 222 | 18.7 | 394.63 | 2.94 | 33.4 |\n",
       "| 5 | 0.06905 |  0 | 2.18 | 0 | 0.458 | 7.147 | 54.2 | 6.0622 | 3 | 222 | 18.7 | 396.90 | 5.33 | 36.2 |\n",
       "\n"
      ],
      "text/plain": [
       "  crim    zn indus chas nox   rm    age  dis    rad tax ptratio black  lstat\n",
       "1 0.00632 18 2.31  0    0.538 6.575 65.2 4.0900 1   296 15.3    396.90 4.98 \n",
       "2 0.02731  0 7.07  0    0.469 6.421 78.9 4.9671 2   242 17.8    396.90 9.14 \n",
       "3 0.02729  0 7.07  0    0.469 7.185 61.1 4.9671 2   242 17.8    392.83 4.03 \n",
       "4 0.03237  0 2.18  0    0.458 6.998 45.8 6.0622 3   222 18.7    394.63 2.94 \n",
       "5 0.06905  0 2.18  0    0.458 7.147 54.2 6.0622 3   222 18.7    396.90 5.33 \n",
       "  medv\n",
       "1 24.0\n",
       "2 21.6\n",
       "3 34.7\n",
       "4 33.4\n",
       "5 36.2"
      ]
     },
     "metadata": {},
     "output_type": "display_data"
    }
   ],
   "source": [
    "library(MASS)\n",
    "data(Boston)\n",
    "head(Boston, n=5) #The head function shows the first n rows in a dataframe"
   ]
  },
  {
   "cell_type": "markdown",
   "metadata": {
    "id": "QX6f5f_ky7bP"
   },
   "source": [
    "Most of the well-known machine learning models are implemented in R (and Python!), and are relatively easy to use. However, there will be cases where you'll need to prepare and transform your data using techniques seen elsewhere on the program (in Intro to Maths, for example, where you learned how to manipulate matrices and vectors, invert matrices, and solve systems of linear equations). There might also be cases where you want to implement your own version of a machine learning model and modify it; therefore, it is useful to know how to manipulate datasets and matrices in R (and understand how to move between those two data types!).\n",
    "\n",
    "In Intro to Stats Week 6, you studied linear regression models (check your notes!), and you were trying to fit the model:\n",
    "\n",
    "$Y=X\\beta+\\epsilon$\n",
    "\n",
    "and estimate the vector $\\beta$.  \n",
    "To estimate $\\beta$ using least squares, we want to compute:\n",
    "\n",
    "$\\hat{\\beta}=(X^TX)^{-1}X^TY$\n",
    "\n",
    "where $X^T$ is the transpose of $X$ and $A^{-1}$ represents the inverse of a matrix $A$."
   ]
  },
  {
   "cell_type": "markdown",
   "metadata": {
    "id": "AXAIfrabNQmj"
   },
   "source": [
    "#### **Briefly review Intro to Stats workshops 6 and 7 before continuing**\n",
    "\n",
    "You can also try your solutions here in this notebook to get familiar with the environment.\n",
    "\n",
    "Now, let's start with a simple example using linear regression and the Boston dataset."
   ]
  },
  {
   "cell_type": "markdown",
   "metadata": {
    "id": "fYyfLOav1sBo"
   },
   "source": [
    "\n",
    "\n",
    "#### **Exercise 2** - Fitting a linear regression model with **lm**\n",
    "\n",
    "Recall that you used the **lm** function to fit linear models in Intro to Stats.  Use the **lm** function here to fit a linear regression model with *medv* as the response variable and the following variables as the predictors: *rm*, *lstat*, *indus*, and *ptratio*.\n",
    "\n",
    "Save the estimated values of the regression coefficients to the vector **b_lm**."
   ]
  },
  {
   "cell_type": "code",
   "execution_count": null,
   "metadata": {
    "id": "otr5jtAiweAn"
   },
   "outputs": [],
   "source": []
  },
  {
   "cell_type": "markdown",
   "metadata": {
    "id": "Hf5tjL7nvfOl"
   },
   "source": [
    "Now let's try to calculate $\\hat\\beta$ using matrix operations via\n",
    "$\\hat{\\beta}=(X^TX)^{-1}X^TY$.\n",
    "\n",
    "To do that, we have to define $X$ and $Y$. $Y$ is the vector containing the values of *medv*. The $X$ matrix is the *design matrix* composed by a unit vector linked to the model intercept ($\\beta_0$), and the vectors containing the values of the variables *rm*, *lstat*, *indus*, and *ptratio*.\n",
    "\n",
    "Let's create Y and X:"
   ]
  },
  {
   "cell_type": "code",
   "execution_count": 3,
   "metadata": {
    "colab": {
     "base_uri": "https://localhost:8080/",
     "height": 286
    },
    "id": "WJpphfXr5DUh",
    "outputId": "cbeef5da-151d-4306-efdb-9ccf00c4693e"
   },
   "outputs": [
    {
     "data": {
      "text/html": [
       "<table class=\"dataframe\">\n",
       "<caption>A data.frame: 6 × 5</caption>\n",
       "<thead>\n",
       "\t<tr><th></th><th scope=col>1</th><th scope=col>rm</th><th scope=col>lstat</th><th scope=col>indus</th><th scope=col>ptratio</th></tr>\n",
       "\t<tr><th></th><th scope=col>&lt;dbl&gt;</th><th scope=col>&lt;dbl&gt;</th><th scope=col>&lt;dbl&gt;</th><th scope=col>&lt;dbl&gt;</th><th scope=col>&lt;dbl&gt;</th></tr>\n",
       "</thead>\n",
       "<tbody>\n",
       "\t<tr><th scope=row>1</th><td>1</td><td>6.575</td><td>4.98</td><td>2.31</td><td>15.3</td></tr>\n",
       "\t<tr><th scope=row>2</th><td>1</td><td>6.421</td><td>9.14</td><td>7.07</td><td>17.8</td></tr>\n",
       "\t<tr><th scope=row>3</th><td>1</td><td>7.185</td><td>4.03</td><td>7.07</td><td>17.8</td></tr>\n",
       "\t<tr><th scope=row>4</th><td>1</td><td>6.998</td><td>2.94</td><td>2.18</td><td>18.7</td></tr>\n",
       "\t<tr><th scope=row>5</th><td>1</td><td>7.147</td><td>5.33</td><td>2.18</td><td>18.7</td></tr>\n",
       "\t<tr><th scope=row>6</th><td>1</td><td>6.430</td><td>5.21</td><td>2.18</td><td>18.7</td></tr>\n",
       "</tbody>\n",
       "</table>\n"
      ],
      "text/latex": [
       "A data.frame: 6 × 5\n",
       "\\begin{tabular}{r|lllll}\n",
       "  & 1 & rm & lstat & indus & ptratio\\\\\n",
       "  & <dbl> & <dbl> & <dbl> & <dbl> & <dbl>\\\\\n",
       "\\hline\n",
       "\t1 & 1 & 6.575 & 4.98 & 2.31 & 15.3\\\\\n",
       "\t2 & 1 & 6.421 & 9.14 & 7.07 & 17.8\\\\\n",
       "\t3 & 1 & 7.185 & 4.03 & 7.07 & 17.8\\\\\n",
       "\t4 & 1 & 6.998 & 2.94 & 2.18 & 18.7\\\\\n",
       "\t5 & 1 & 7.147 & 5.33 & 2.18 & 18.7\\\\\n",
       "\t6 & 1 & 6.430 & 5.21 & 2.18 & 18.7\\\\\n",
       "\\end{tabular}\n"
      ],
      "text/markdown": [
       "\n",
       "A data.frame: 6 × 5\n",
       "\n",
       "| <!--/--> | 1 &lt;dbl&gt; | rm &lt;dbl&gt; | lstat &lt;dbl&gt; | indus &lt;dbl&gt; | ptratio &lt;dbl&gt; |\n",
       "|---|---|---|---|---|---|\n",
       "| 1 | 1 | 6.575 | 4.98 | 2.31 | 15.3 |\n",
       "| 2 | 1 | 6.421 | 9.14 | 7.07 | 17.8 |\n",
       "| 3 | 1 | 7.185 | 4.03 | 7.07 | 17.8 |\n",
       "| 4 | 1 | 6.998 | 2.94 | 2.18 | 18.7 |\n",
       "| 5 | 1 | 7.147 | 5.33 | 2.18 | 18.7 |\n",
       "| 6 | 1 | 6.430 | 5.21 | 2.18 | 18.7 |\n",
       "\n"
      ],
      "text/plain": [
       "  1 rm    lstat indus ptratio\n",
       "1 1 6.575 4.98  2.31  15.3   \n",
       "2 1 6.421 9.14  7.07  17.8   \n",
       "3 1 7.185 4.03  7.07  17.8   \n",
       "4 1 6.998 2.94  2.18  18.7   \n",
       "5 1 7.147 5.33  2.18  18.7   \n",
       "6 1 6.430 5.21  2.18  18.7   "
      ]
     },
     "metadata": {},
     "output_type": "display_data"
    }
   ],
   "source": [
    "Y = Boston$medv\n",
    "Xpart = Boston[,c('rm','lstat','indus','ptratio')]\n",
    "X = cbind(1,Xpart) #this looks like cheating but it works for dataframes,\n",
    "#you can also use rep to first create a unit vector!\n",
    "head(X)"
   ]
  },
  {
   "cell_type": "markdown",
   "metadata": {
    "id": "QiRDsB395kXW"
   },
   "source": [
    "Now let's convert $Y$ and $X$ to matrices using the *as.matrix* function."
   ]
  },
  {
   "cell_type": "code",
   "execution_count": 4,
   "metadata": {
    "id": "xfWIho0_5vEU"
   },
   "outputs": [],
   "source": [
    "Y = as.matrix(Y)\n",
    "X = as.matrix(X)"
   ]
  },
  {
   "cell_type": "markdown",
   "metadata": {
    "id": "CfGPIMX550JG"
   },
   "source": [
    "To transpose the matrix $X$, we use the **t** function. To invert it, we use the **solve** function. Or if you really want to practice your coding skills, you can implement your own inversion function later on!\n",
    "\n",
    "To multiply matrices and vectors in R, we use %*%."
   ]
  },
  {
   "cell_type": "code",
   "execution_count": 5,
   "metadata": {
    "colab": {
     "base_uri": "https://localhost:8080/",
     "height": 223
    },
    "id": "VWJ0B_oM6F_H",
    "outputId": "206a70ba-eb2b-45cd-e049-9f142e7d064e"
   },
   "outputs": [
    {
     "data": {
      "text/html": [
       "<table class=\"dataframe\">\n",
       "<caption>A matrix: 5 × 5 of type dbl</caption>\n",
       "<thead>\n",
       "\t<tr><th></th><th scope=col>1</th><th scope=col>rm</th><th scope=col>lstat</th><th scope=col>indus</th><th scope=col>ptratio</th></tr>\n",
       "</thead>\n",
       "<tbody>\n",
       "\t<tr><th scope=row>1</th><td> 506.000</td><td> 3180.025</td><td>  6402.45</td><td>  5635.21</td><td>  9338.50</td></tr>\n",
       "\t<tr><th scope=row>rm</th><td>3180.025</td><td>20234.598</td><td> 38681.79</td><td> 34461.82</td><td> 58415.97</td></tr>\n",
       "\t<tr><th scope=row>lstat</th><td>6402.450</td><td>38681.788</td><td>106762.96</td><td> 86240.71</td><td>121080.91</td></tr>\n",
       "\t<tr><th scope=row>indus</th><td>5635.210</td><td>34461.816</td><td> 86240.71</td><td> 86525.63</td><td>106875.32</td></tr>\n",
       "\t<tr><th scope=row>ptratio</th><td>9338.500</td><td>58415.973</td><td>121080.91</td><td>106875.32</td><td>174713.93</td></tr>\n",
       "</tbody>\n",
       "</table>\n"
      ],
      "text/latex": [
       "A matrix: 5 × 5 of type dbl\n",
       "\\begin{tabular}{r|lllll}\n",
       "  & 1 & rm & lstat & indus & ptratio\\\\\n",
       "\\hline\n",
       "\t1 &  506.000 &  3180.025 &   6402.45 &   5635.21 &   9338.50\\\\\n",
       "\trm & 3180.025 & 20234.598 &  38681.79 &  34461.82 &  58415.97\\\\\n",
       "\tlstat & 6402.450 & 38681.788 & 106762.96 &  86240.71 & 121080.91\\\\\n",
       "\tindus & 5635.210 & 34461.816 &  86240.71 &  86525.63 & 106875.32\\\\\n",
       "\tptratio & 9338.500 & 58415.973 & 121080.91 & 106875.32 & 174713.93\\\\\n",
       "\\end{tabular}\n"
      ],
      "text/markdown": [
       "\n",
       "A matrix: 5 × 5 of type dbl\n",
       "\n",
       "| <!--/--> | 1 | rm | lstat | indus | ptratio |\n",
       "|---|---|---|---|---|---|\n",
       "| 1 |  506.000 |  3180.025 |   6402.45 |   5635.21 |   9338.50 |\n",
       "| rm | 3180.025 | 20234.598 |  38681.79 |  34461.82 |  58415.97 |\n",
       "| lstat | 6402.450 | 38681.788 | 106762.96 |  86240.71 | 121080.91 |\n",
       "| indus | 5635.210 | 34461.816 |  86240.71 |  86525.63 | 106875.32 |\n",
       "| ptratio | 9338.500 | 58415.973 | 121080.91 | 106875.32 | 174713.93 |\n",
       "\n"
      ],
      "text/plain": [
       "        1        rm        lstat     indus     ptratio  \n",
       "1        506.000  3180.025   6402.45   5635.21   9338.50\n",
       "rm      3180.025 20234.598  38681.79  34461.82  58415.97\n",
       "lstat   6402.450 38681.788 106762.96  86240.71 121080.91\n",
       "indus   5635.210 34461.816  86240.71  86525.63 106875.32\n",
       "ptratio 9338.500 58415.973 121080.91 106875.32 174713.93"
      ]
     },
     "metadata": {},
     "output_type": "display_data"
    }
   ],
   "source": [
    "trX = t(X)\n",
    "trXX = trX%*%X\n",
    "trXX"
   ]
  },
  {
   "cell_type": "code",
   "execution_count": 6,
   "metadata": {
    "colab": {
     "base_uri": "https://localhost:8080/",
     "height": 223
    },
    "id": "x8_hZCOy6wHA",
    "outputId": "2b7fdd5d-b632-4c5a-ef5d-9b08fe0c2102"
   },
   "outputs": [
    {
     "data": {
      "text/html": [
       "<table class=\"dataframe\">\n",
       "<caption>A matrix: 5 × 5 of type dbl</caption>\n",
       "<thead>\n",
       "\t<tr><th></th><th scope=col>1</th><th scope=col>rm</th><th scope=col>lstat</th><th scope=col>indus</th><th scope=col>ptratio</th></tr>\n",
       "</thead>\n",
       "<tbody>\n",
       "\t<tr><th scope=row>1</th><td> 0.5627402385</td><td>-5.212583e-02</td><td>-2.636070e-03</td><td> 4.386852e-04</td><td>-1.109171e-02</td></tr>\n",
       "\t<tr><th scope=row>rm</th><td>-0.0521258284</td><td> 6.632218e-03</td><td> 3.659520e-04</td><td>-2.220860e-06</td><td> 3.163865e-04</td></tr>\n",
       "\t<tr><th scope=row>lstat</th><td>-0.0026360697</td><td> 3.659520e-04</td><td> 8.368636e-05</td><td>-3.579378e-05</td><td>-1.755929e-05</td></tr>\n",
       "\t<tr><th scope=row>indus</th><td> 0.0004386852</td><td>-2.220860e-06</td><td>-3.579378e-05</td><td> 6.935899e-05</td><td>-4.032735e-05</td></tr>\n",
       "\t<tr><th scope=row>ptratio</th><td>-0.0110917066</td><td> 3.163865e-04</td><td>-1.755929e-05</td><td>-4.032735e-05</td><td> 5.296313e-04</td></tr>\n",
       "</tbody>\n",
       "</table>\n"
      ],
      "text/latex": [
       "A matrix: 5 × 5 of type dbl\n",
       "\\begin{tabular}{r|lllll}\n",
       "  & 1 & rm & lstat & indus & ptratio\\\\\n",
       "\\hline\n",
       "\t1 &  0.5627402385 & -5.212583e-02 & -2.636070e-03 &  4.386852e-04 & -1.109171e-02\\\\\n",
       "\trm & -0.0521258284 &  6.632218e-03 &  3.659520e-04 & -2.220860e-06 &  3.163865e-04\\\\\n",
       "\tlstat & -0.0026360697 &  3.659520e-04 &  8.368636e-05 & -3.579378e-05 & -1.755929e-05\\\\\n",
       "\tindus &  0.0004386852 & -2.220860e-06 & -3.579378e-05 &  6.935899e-05 & -4.032735e-05\\\\\n",
       "\tptratio & -0.0110917066 &  3.163865e-04 & -1.755929e-05 & -4.032735e-05 &  5.296313e-04\\\\\n",
       "\\end{tabular}\n"
      ],
      "text/markdown": [
       "\n",
       "A matrix: 5 × 5 of type dbl\n",
       "\n",
       "| <!--/--> | 1 | rm | lstat | indus | ptratio |\n",
       "|---|---|---|---|---|---|\n",
       "| 1 |  0.5627402385 | -5.212583e-02 | -2.636070e-03 |  4.386852e-04 | -1.109171e-02 |\n",
       "| rm | -0.0521258284 |  6.632218e-03 |  3.659520e-04 | -2.220860e-06 |  3.163865e-04 |\n",
       "| lstat | -0.0026360697 |  3.659520e-04 |  8.368636e-05 | -3.579378e-05 | -1.755929e-05 |\n",
       "| indus |  0.0004386852 | -2.220860e-06 | -3.579378e-05 |  6.935899e-05 | -4.032735e-05 |\n",
       "| ptratio | -0.0110917066 |  3.163865e-04 | -1.755929e-05 | -4.032735e-05 |  5.296313e-04 |\n",
       "\n"
      ],
      "text/plain": [
       "        1             rm            lstat         indus         ptratio      \n",
       "1        0.5627402385 -5.212583e-02 -2.636070e-03  4.386852e-04 -1.109171e-02\n",
       "rm      -0.0521258284  6.632218e-03  3.659520e-04 -2.220860e-06  3.163865e-04\n",
       "lstat   -0.0026360697  3.659520e-04  8.368636e-05 -3.579378e-05 -1.755929e-05\n",
       "indus    0.0004386852 -2.220860e-06 -3.579378e-05  6.935899e-05 -4.032735e-05\n",
       "ptratio -0.0110917066  3.163865e-04 -1.755929e-05 -4.032735e-05  5.296313e-04"
      ]
     },
     "metadata": {},
     "output_type": "display_data"
    }
   ],
   "source": [
    "inv_trXX = solve(trXX)\n",
    "inv_trXX"
   ]
  },
  {
   "cell_type": "markdown",
   "metadata": {
    "id": "8kdVVJRk66ti"
   },
   "source": [
    "#### **Exercise 3**\n",
    "\n",
    "Continue the calculations above and return a vector of length 5, assigning it the name **b_calc**. Compare your vector to **b_lm**."
   ]
  },
  {
   "cell_type": "code",
   "execution_count": null,
   "metadata": {
    "id": "gVHJIjdd63Fp"
   },
   "outputs": [],
   "source": []
  },
  {
   "cell_type": "markdown",
   "metadata": {
    "id": "YPmszLaG7uHo"
   },
   "source": [
    "#### **Exercise 4**\n",
    "\n",
    "Write down and execute the steps you would take to calculate the coefficients for\n",
    "\n",
    "*lm(medv~poly(lstat,2, raw=TRUE), data=Boston)*\n",
    "\n",
    "using matrices as above.\n",
    "\n",
    "What does the *raw=TRUE* option do in the *poly* function?\n",
    "Increase the power of the polynomial and check what happens to your matrices.\n",
    "\n",
    "Note: Remember, you can treat powers of *lstat* as separate feature variables"
   ]
  },
  {
   "cell_type": "code",
   "execution_count": null,
   "metadata": {
    "id": "272lrYeH8F_7"
   },
   "outputs": [],
   "source": []
  },
  {
   "cell_type": "markdown",
   "metadata": {
    "id": "5hbFIjiD5tID"
   },
   "source": [
    "### PART II - Best Subset Selection\n",
    "\n",
    "**Preparation**: Take a look at the contents for weeks 7 and 8 in Introduction to Statistics. We will build on some of the concepts you have already seen such as variable selection and model validation.\n",
    "\n",
    "#### **Introduction**: \n",
    "\n",
    "Above, we used the *Boston* dataset to fit a linear model using **lm**. We had *medv* as our response variable, and the following variables as our predictors: *rm*, *lstat*, *indus*, and *ptratio*."
   ]
  },
  {
   "cell_type": "code",
   "execution_count": 9,
   "metadata": {
    "colab": {
     "base_uri": "https://localhost:8080/",
     "height": 388
    },
    "id": "BluCHYiK8jNv",
    "outputId": "d4027cc1-4d5a-4408-8f9e-25604d8e1198"
   },
   "outputs": [
    {
     "data": {
      "text/plain": [
       "\n",
       "Call:\n",
       "lm(formula = medv ~ rm + lstat + indus + ptratio, data = Boston)\n",
       "\n",
       "Residuals:\n",
       "     Min       1Q   Median       3Q      Max \n",
       "-14.5602  -3.1379  -0.7984   1.7783  29.5739 \n",
       "\n",
       "Coefficients:\n",
       "             Estimate Std. Error t value Pr(>|t|)    \n",
       "(Intercept) 18.614970   3.926680   4.741 2.78e-06 ***\n",
       "rm           4.515179   0.426286  10.592  < 2e-16 ***\n",
       "lstat       -0.575711   0.047885 -12.023  < 2e-16 ***\n",
       "indus        0.007567   0.043594   0.174    0.862    \n",
       "ptratio     -0.935122   0.120464  -7.763 4.71e-14 ***\n",
       "---\n",
       "Signif. codes:  0 ‘***’ 0.001 ‘**’ 0.01 ‘*’ 0.05 ‘.’ 0.1 ‘ ’ 1\n",
       "\n",
       "Residual standard error: 5.234 on 501 degrees of freedom\n",
       "Multiple R-squared:  0.6786,\tAdjusted R-squared:  0.6761 \n",
       "F-statistic: 264.5 on 4 and 501 DF,  p-value: < 2.2e-16\n"
      ]
     },
     "metadata": {},
     "output_type": "display_data"
    }
   ],
   "source": [
    "library(MASS)\n",
    "data(Boston)\n",
    "summary(lm(medv~rm+lstat+indus+ptratio, data=Boston))"
   ]
  },
  {
   "cell_type": "markdown",
   "metadata": {
    "id": "gwVY72Rt80jW"
   },
   "source": [
    "We can see that the $R^2$ for this model is 0.6786. This means that 67.86% of the variation in the quantitative measure of property median value (medv) can be explained by its linear regression on the 4 chosen predictor variables. We can also see that the adjusted $R^2$ is 0.6761.\n",
    "\n",
    "Say we now include the *nox* predictor in our model:"
   ]
  },
  {
   "cell_type": "code",
   "execution_count": 10,
   "metadata": {
    "colab": {
     "base_uri": "https://localhost:8080/",
     "height": 406
    },
    "id": "RtJ9Pe_n9t0f",
    "outputId": "24faf7fe-f096-43ee-a3ee-272bede6c078"
   },
   "outputs": [
    {
     "data": {
      "text/plain": [
       "\n",
       "Call:\n",
       "lm(formula = medv ~ rm + lstat + indus + ptratio + nox, data = Boston)\n",
       "\n",
       "Residuals:\n",
       "    Min      1Q  Median      3Q     Max \n",
       "-14.111  -3.078  -0.831   1.748  29.924 \n",
       "\n",
       "Coefficients:\n",
       "            Estimate Std. Error t value Pr(>|t|)    \n",
       "(Intercept) 20.60281    4.16490   4.947 1.03e-06 ***\n",
       "rm           4.58538    0.42871  10.696  < 2e-16 ***\n",
       "lstat       -0.55338    0.05035 -10.990  < 2e-16 ***\n",
       "indus        0.06188    0.05796   1.068    0.286    \n",
       "ptratio     -0.97272    0.12322  -7.894 1.86e-14 ***\n",
       "nox         -4.72784    3.32874  -1.420    0.156    \n",
       "---\n",
       "Signif. codes:  0 ‘***’ 0.001 ‘**’ 0.01 ‘*’ 0.05 ‘.’ 0.1 ‘ ’ 1\n",
       "\n",
       "Residual standard error: 5.229 on 500 degrees of freedom\n",
       "Multiple R-squared:  0.6799,\tAdjusted R-squared:  0.6767 \n",
       "F-statistic: 212.4 on 5 and 500 DF,  p-value: < 2.2e-16\n"
      ]
     },
     "metadata": {},
     "output_type": "display_data"
    }
   ],
   "source": [
    "summary(lm(medv~rm+lstat+indus+ptratio+nox, data=Boston))"
   ]
  },
  {
   "cell_type": "markdown",
   "metadata": {
    "id": "q-_KSkxJ9_Pd"
   },
   "source": [
    "The $R^2$ has moved from 67.61% to 67.99%. So, if we assume that a model with a higher $R^2$ is better, we would choose this model over the previous one. In this case, the adjusted $R^2$ is also higher at 0.6767.\n",
    "\n",
    "**Question:** Which measure should we use to compare the first and the second model? $R^2$ or the adjusted $R^2$? Discuss this with a colleague or a tutor before proceeding."
   ]
  },
  {
   "cell_type": "markdown",
   "metadata": {
    "id": "JsSD0P5wEKQX"
   },
   "source": [
    "\n",
    "SImilarly, if we add the variable *zn* to the first model, we will see a decrease in the adjusted $R^2$ in comparison to the first model. We can also see a decrease in the $R^2$ in comparison to the second model. Therefore, we would (possibly) conclude that we are better off with the second model."
   ]
  },
  {
   "cell_type": "code",
   "execution_count": 11,
   "metadata": {
    "colab": {
     "base_uri": "https://localhost:8080/",
     "height": 406
    },
    "id": "BTvPeJL19-Za",
    "outputId": "e71940bc-8536-49d7-e074-5bbd64fece95"
   },
   "outputs": [
    {
     "data": {
      "text/plain": [
       "\n",
       "Call:\n",
       "lm(formula = medv ~ rm + lstat + indus + ptratio + zn, data = Boston)\n",
       "\n",
       "Residuals:\n",
       "     Min       1Q   Median       3Q      Max \n",
       "-14.5903  -3.1327  -0.8342   1.8571  29.5849 \n",
       "\n",
       "Coefficients:\n",
       "             Estimate Std. Error t value Pr(>|t|)    \n",
       "(Intercept) 19.148274   3.996972   4.791 2.19e-06 ***\n",
       "rm           4.527117   0.426807  10.607  < 2e-16 ***\n",
       "lstat       -0.577861   0.048000 -12.039  < 2e-16 ***\n",
       "indus       -0.004404   0.046642  -0.094    0.925    \n",
       "ptratio     -0.953931   0.123288  -7.737 5.65e-14 ***\n",
       "zn          -0.008859   0.012233  -0.724    0.469    \n",
       "---\n",
       "Signif. codes:  0 ‘***’ 0.001 ‘**’ 0.01 ‘*’ 0.05 ‘.’ 0.1 ‘ ’ 1\n",
       "\n",
       "Residual standard error: 5.237 on 500 degrees of freedom\n",
       "Multiple R-squared:  0.679,\tAdjusted R-squared:  0.6758 \n",
       "F-statistic: 211.5 on 5 and 500 DF,  p-value: < 2.2e-16\n"
      ]
     },
     "metadata": {},
     "output_type": "display_data"
    }
   ],
   "source": [
    "summary(lm(medv~rm+lstat+indus+ptratio+zn, data=Boston))"
   ]
  },
  {
   "cell_type": "markdown",
   "metadata": {
    "id": "A2CbNifnAdb3"
   },
   "source": [
    "If we are to consider all possible linear combinations of variables, we would need to consider the model with no predictors (only an intercept) and the model with all predictors available. Let's see what the calculated $R^2$ and adjusted $R^2$ is for these models:"
   ]
  },
  {
   "cell_type": "code",
   "execution_count": 12,
   "metadata": {
    "colab": {
     "base_uri": "https://localhost:8080/",
     "height": 282
    },
    "id": "rXebR4VIArRv",
    "outputId": "dfe9c9f0-3963-481c-9085-382a70f35e5a"
   },
   "outputs": [
    {
     "data": {
      "text/plain": [
       "\n",
       "Call:\n",
       "lm(formula = medv ~ 1, data = Boston)\n",
       "\n",
       "Residuals:\n",
       "    Min      1Q  Median      3Q     Max \n",
       "-17.533  -5.508  -1.333   2.467  27.467 \n",
       "\n",
       "Coefficients:\n",
       "            Estimate Std. Error t value Pr(>|t|)    \n",
       "(Intercept)  22.5328     0.4089   55.11   <2e-16 ***\n",
       "---\n",
       "Signif. codes:  0 ‘***’ 0.001 ‘**’ 0.01 ‘*’ 0.05 ‘.’ 0.1 ‘ ’ 1\n",
       "\n",
       "Residual standard error: 9.197 on 505 degrees of freedom\n"
      ]
     },
     "metadata": {},
     "output_type": "display_data"
    }
   ],
   "source": [
    "m0=lm(medv~1, data=Boston)\n",
    "summary(m0)"
   ]
  },
  {
   "cell_type": "code",
   "execution_count": 13,
   "metadata": {
    "colab": {
     "base_uri": "https://localhost:8080/",
     "height": 547
    },
    "id": "XRgMa2ZnB-3y",
    "outputId": "6f67495b-0918-4b20-992d-56123d27a00e"
   },
   "outputs": [
    {
     "data": {
      "text/plain": [
       "\n",
       "Call:\n",
       "lm(formula = medv ~ ., data = Boston)\n",
       "\n",
       "Residuals:\n",
       "    Min      1Q  Median      3Q     Max \n",
       "-15.595  -2.730  -0.518   1.777  26.199 \n",
       "\n",
       "Coefficients:\n",
       "              Estimate Std. Error t value Pr(>|t|)    \n",
       "(Intercept)  3.646e+01  5.103e+00   7.144 3.28e-12 ***\n",
       "crim        -1.080e-01  3.286e-02  -3.287 0.001087 ** \n",
       "zn           4.642e-02  1.373e-02   3.382 0.000778 ***\n",
       "indus        2.056e-02  6.150e-02   0.334 0.738288    \n",
       "chas         2.687e+00  8.616e-01   3.118 0.001925 ** \n",
       "nox         -1.777e+01  3.820e+00  -4.651 4.25e-06 ***\n",
       "rm           3.810e+00  4.179e-01   9.116  < 2e-16 ***\n",
       "age          6.922e-04  1.321e-02   0.052 0.958229    \n",
       "dis         -1.476e+00  1.995e-01  -7.398 6.01e-13 ***\n",
       "rad          3.060e-01  6.635e-02   4.613 5.07e-06 ***\n",
       "tax         -1.233e-02  3.760e-03  -3.280 0.001112 ** \n",
       "ptratio     -9.527e-01  1.308e-01  -7.283 1.31e-12 ***\n",
       "black        9.312e-03  2.686e-03   3.467 0.000573 ***\n",
       "lstat       -5.248e-01  5.072e-02 -10.347  < 2e-16 ***\n",
       "---\n",
       "Signif. codes:  0 ‘***’ 0.001 ‘**’ 0.01 ‘*’ 0.05 ‘.’ 0.1 ‘ ’ 1\n",
       "\n",
       "Residual standard error: 4.745 on 492 degrees of freedom\n",
       "Multiple R-squared:  0.7406,\tAdjusted R-squared:  0.7338 \n",
       "F-statistic: 108.1 on 13 and 492 DF,  p-value: < 2.2e-16\n"
      ]
     },
     "metadata": {},
     "output_type": "display_data"
    }
   ],
   "source": [
    "mfull=lm(medv~ . , data=Boston)\n",
    "summary(mfull)"
   ]
  },
  {
   "cell_type": "markdown",
   "metadata": {
    "id": "jYIbLL-1CAhu"
   },
   "source": [
    "**Question**: What happened to the $R^2$ and adjusted $R^2$ for the model $M_0$ above? Again discuss this with your colleagues or a tutor."
   ]
  },
  {
   "cell_type": "markdown",
   "metadata": {
    "id": "nl6H7JRY_XiO"
   },
   "source": [
    "#### **Best Subset Selection procedure**\n",
    "\n",
    "To perform best subset selection, we fit a separate regression model for each possible combination of the $p$ predictors. This is often broken up into stages, as follows:\n",
    "\n",
    "1. Let   $M_0$ denote the model which contains no predictors.\n",
    "\n",
    "2. For $k=1,2,\\ldots,p$:\n",
    "\n",
    "- Fit all $p \\choose k$  models that contain exactly $k$ predictors.\n",
    "- Pick the best among these\n",
    "  models and call it $M_k$. Here, best is defined as having the smallest RSS or largest $R^2$.\n",
    "\n",
    "3. Select a single best model from $M_0,M_1,\\ldots,M_p$ using a suitable measure such as the cross-validated prediction error $C_p$, BIC, adjusted $R^2$, etc.\n",
    "\n",
    "It is important to note that use of RSS or $R^2$ in step 2 of the above algorithm is acceptable because the models all have an equal number of predictors. We can't use RSS in step 3 because RSS decreases monotonically as the number of predictors included in the model increases."
   ]
  },
  {
   "cell_type": "markdown",
   "metadata": {
    "id": "bAQn_aR7FlTz"
   },
   "source": [
    "**Exercise**: Let's write a loop to try to find the best subset model for *medv*.\n",
    "\n",
    "*Note*: There are many different ways to complete this exercise using different libraries, data subsetting/manipulation, etc. The way we are going to attempt this now is not optimal but it is simple and easy to implement.\n",
    "\n",
    "**Step 1:** Say we want to fit the model *medv ~ nox*, we write:"
   ]
  },
  {
   "cell_type": "code",
   "execution_count": 15,
   "metadata": {
    "colab": {
     "base_uri": "https://localhost:8080/",
     "height": 335
    },
    "id": "YosPdPQAAFdo",
    "outputId": "ecfc3489-db39-43c7-92b7-1b8ae01a3c8f"
   },
   "outputs": [
    {
     "data": {
      "text/plain": [
       "\n",
       "Call:\n",
       "lm(formula = medv ~ nox, data = Boston)\n",
       "\n",
       "Residuals:\n",
       "    Min      1Q  Median      3Q     Max \n",
       "-13.691  -5.121  -2.161   2.959  31.310 \n",
       "\n",
       "Coefficients:\n",
       "            Estimate Std. Error t value Pr(>|t|)    \n",
       "(Intercept)   41.346      1.811   22.83   <2e-16 ***\n",
       "nox          -33.916      3.196  -10.61   <2e-16 ***\n",
       "---\n",
       "Signif. codes:  0 ‘***’ 0.001 ‘**’ 0.01 ‘*’ 0.05 ‘.’ 0.1 ‘ ’ 1\n",
       "\n",
       "Residual standard error: 8.323 on 504 degrees of freedom\n",
       "Multiple R-squared:  0.1826,\tAdjusted R-squared:  0.181 \n",
       "F-statistic: 112.6 on 1 and 504 DF,  p-value: < 2.2e-16\n"
      ]
     },
     "metadata": {},
     "output_type": "display_data"
    }
   ],
   "source": [
    "m_example=lm(medv ~ nox, data=Boston)\n",
    "summary(m_example)"
   ]
  },
  {
   "cell_type": "markdown",
   "metadata": {
    "id": "nWBB3kgHIv7o"
   },
   "source": [
    "**Step 2:** And we can get the $R^2$ and adjusted $R^2$ for this model by calling:"
   ]
  },
  {
   "cell_type": "code",
   "execution_count": 16,
   "metadata": {
    "colab": {
     "base_uri": "https://localhost:8080/"
    },
    "id": "DQDDk1tlI2xY",
    "outputId": "b8698700-ca72-4b57-ac76-388215e2528e"
   },
   "outputs": [
    {
     "name": "stdout",
     "output_type": "stream",
     "text": [
      "[1] \"R2 = 0.182603042501699\"\n",
      "[1] \"Adj R2 = 0.180981223141583\"\n"
     ]
    }
   ],
   "source": [
    "r2_example = summary(m_example)$r.squared\n",
    "adjr2_example = summary(m_example)$adj.r.squared\n",
    "print(paste0(\"R2 = \",r2_example))\n",
    "print(paste0(\"Adj R2 = \",adjr2_example))"
   ]
  },
  {
   "cell_type": "markdown",
   "metadata": {
    "id": "jdhfGPsmIvx8"
   },
   "source": [
    "**Step 3:** When we called the model with all variables in the previous section, we used *lm(medv ~ ., data=Boston)*. The dot indicates we want to use all variables in the dataset Boston.\n",
    "\n",
    "Instead of writing *lm(medv ~ nox, data=Boston)* in the previous model, we could write *lm(medv ~ ., data=Boston[,c(5,14)])*.\n",
    "\n",
    "The 5th column in Boston corresponds to the variable *nox* and the last column (14th) corresponds to *medv*. So we have subsetted the dataset keeping only the columns of interest for this model."
   ]
  },
  {
   "cell_type": "code",
   "execution_count": 8,
   "metadata": {
    "colab": {
     "base_uri": "https://localhost:8080/",
     "height": 335
    },
    "id": "6fCMjNofIvPr",
    "outputId": "9b72d3f5-8bdd-44ed-c0e1-420031f7622f"
   },
   "outputs": [
    {
     "data": {
      "text/plain": [
       "\n",
       "Call:\n",
       "lm(formula = medv ~ ., data = Boston[, c(5, 14)])\n",
       "\n",
       "Residuals:\n",
       "    Min      1Q  Median      3Q     Max \n",
       "-13.691  -5.121  -2.161   2.959  31.310 \n",
       "\n",
       "Coefficients:\n",
       "            Estimate Std. Error t value Pr(>|t|)    \n",
       "(Intercept)   41.346      1.811   22.83   <2e-16 ***\n",
       "nox          -33.916      3.196  -10.61   <2e-16 ***\n",
       "---\n",
       "Signif. codes:  0 ‘***’ 0.001 ‘**’ 0.01 ‘*’ 0.05 ‘.’ 0.1 ‘ ’ 1\n",
       "\n",
       "Residual standard error: 8.323 on 504 degrees of freedom\n",
       "Multiple R-squared:  0.1826,\tAdjusted R-squared:  0.181 \n",
       "F-statistic: 112.6 on 1 and 504 DF,  p-value: < 2.2e-16\n"
      ]
     },
     "metadata": {},
     "output_type": "display_data"
    }
   ],
   "source": [
    "summary(lm(medv ~ ., data=Boston[,c(5,14)]))"
   ]
  },
  {
   "cell_type": "markdown",
   "metadata": {
    "id": "G45PeKaGKkbd"
   },
   "source": [
    "**Step 4:** Putting everything together, we can write a simple loop to compare all models containing one variable, and saving their $R^2$ to a vector.  We also print some statements that inform us of the most relevant information from our calculations in an easy-to-read way."
   ]
  },
  {
   "cell_type": "code",
   "execution_count": 17,
   "metadata": {
    "colab": {
     "base_uri": "https://localhost:8080/"
    },
    "id": "akn8WczEIgky",
    "outputId": "d4333083-a2fc-4fe2-cae6-dd4c0ab2991b"
   },
   "outputs": [
    {
     "name": "stdout",
     "output_type": "stream",
     "text": [
      " [1] 0.15078047 0.12992084 0.23399003 0.03071613 0.18260304 0.48352546\n",
      " [7] 0.14209474 0.06246437 0.14563858 0.21952592 0.25784732 0.11119612\n",
      "[13] 0.54414630\n",
      "[1] \"The maximum calcuated R2 is: 0.544146\"\n",
      "[1] \"The index of the corresponding model is: 13\"\n",
      "[1] \"The relevant predictor is: lstat\"\n"
     ]
    }
   ],
   "source": [
    "r2_m1 = rep(NA,13)\n",
    "for (var in 1:13){\n",
    "  m_temp = lm(medv~ . , data = Boston[,c(var,14)])\n",
    "  r2_m1[var]=summary(m_temp)$r.squared\n",
    "}\n",
    "print(r2_m1)\n",
    "print(paste0(\"The maximum calcuated R2 is: \", round( max(r2_m1), 6 )))  # look at the help file for round.\n",
    "print(paste0(\"The index of the corresponding model is: \",which.max(r2_m1)))\n",
    "print(paste0(\"The relevant predictor is: \", names(Boston)[which.max(r2_m1)]))"
   ]
  },
  {
   "cell_type": "markdown",
   "metadata": {
    "id": "YP9eJU4mLY7f"
   },
   "source": [
    "**Step 5:** Say we now want to look at all models with 2 variables, we would have to find all pairwise combinations of predictors. To do this, we can use the function *combn*:"
   ]
  },
  {
   "cell_type": "code",
   "execution_count": 18,
   "metadata": {
    "colab": {
     "base_uri": "https://localhost:8080/",
     "height": 97
    },
    "id": "QzaRzGSiJ3et",
    "outputId": "f9a22b3e-2634-4757-c307-358fb1ada92e"
   },
   "outputs": [
    {
     "data": {
      "text/html": [
       "<table class=\"dataframe\">\n",
       "<caption>A matrix: 2 × 78 of type int</caption>\n",
       "<tbody>\n",
       "\t<tr><td>1</td><td>1</td><td>1</td><td>1</td><td>1</td><td>1</td><td>1</td><td>1</td><td> 1</td><td> 1</td><td>⋯</td><td> 9</td><td> 9</td><td> 9</td><td> 9</td><td>10</td><td>10</td><td>10</td><td>11</td><td>11</td><td>12</td></tr>\n",
       "\t<tr><td>2</td><td>3</td><td>4</td><td>5</td><td>6</td><td>7</td><td>8</td><td>9</td><td>10</td><td>11</td><td>⋯</td><td>10</td><td>11</td><td>12</td><td>13</td><td>11</td><td>12</td><td>13</td><td>12</td><td>13</td><td>13</td></tr>\n",
       "</tbody>\n",
       "</table>\n"
      ],
      "text/latex": [
       "A matrix: 2 × 78 of type int\n",
       "\\begin{tabular}{lllllllllllllllllllll}\n",
       "\t 1 & 1 & 1 & 1 & 1 & 1 & 1 & 1 &  1 &  1 & ⋯ &  9 &  9 &  9 &  9 & 10 & 10 & 10 & 11 & 11 & 12\\\\\n",
       "\t 2 & 3 & 4 & 5 & 6 & 7 & 8 & 9 & 10 & 11 & ⋯ & 10 & 11 & 12 & 13 & 11 & 12 & 13 & 12 & 13 & 13\\\\\n",
       "\\end{tabular}\n"
      ],
      "text/markdown": [
       "\n",
       "A matrix: 2 × 78 of type int\n",
       "\n",
       "| 1 | 1 | 1 | 1 | 1 | 1 | 1 | 1 |  1 |  1 | ⋯ |  9 |  9 |  9 |  9 | 10 | 10 | 10 | 11 | 11 | 12 |\n",
       "| 2 | 3 | 4 | 5 | 6 | 7 | 8 | 9 | 10 | 11 | ⋯ | 10 | 11 | 12 | 13 | 11 | 12 | 13 | 12 | 13 | 13 |\n",
       "\n"
      ],
      "text/plain": [
       "     [,1] [,2] [,3] [,4] [,5] [,6] [,7] [,8] [,9] [,10] [,11] [,12] [,13] [,14]\n",
       "[1,] 1    1    1    1    1    1    1    1     1    1    ⋯      9     9     9   \n",
       "[2,] 2    3    4    5    6    7    8    9    10   11    ⋯     10    11    12   \n",
       "     [,15] [,16] [,17] [,18] [,19] [,20] [,21]\n",
       "[1,]  9    10    10    10    11    11    12   \n",
       "[2,] 13    11    12    13    12    13    13   "
      ]
     },
     "metadata": {},
     "output_type": "display_data"
    },
    {
     "data": {
      "text/html": [
       "78"
      ],
      "text/latex": [
       "78"
      ],
      "text/markdown": [
       "78"
      ],
      "text/plain": [
       "[1] 78"
      ]
     },
     "metadata": {},
     "output_type": "display_data"
    }
   ],
   "source": [
    "all_pairs = combn(13,2)\n",
    "all_pairs\n",
    "dim(all_pairs)[2]"
   ]
  },
  {
   "cell_type": "markdown",
   "metadata": {
    "id": "ROzXI0MOM24C"
   },
   "source": [
    "**Step 6:** And we can use the same principle to subset the Boston dataset as before to generate the model using the variables in column 1 of *all_pairs*:"
   ]
  },
  {
   "cell_type": "code",
   "execution_count": 19,
   "metadata": {
    "colab": {
     "base_uri": "https://localhost:8080/",
     "height": 353
    },
    "id": "1slBn_yjJ-cV",
    "outputId": "ad77ba30-c817-4fb9-8f48-9bbf2667b2f7"
   },
   "outputs": [
    {
     "data": {
      "text/plain": [
       "\n",
       "Call:\n",
       "lm(formula = medv ~ ., data = Boston[, c(all_pairs[, 1], 14)])\n",
       "\n",
       "Residuals:\n",
       "    Min      1Q  Median      3Q     Max \n",
       "-15.421  -5.060  -1.558   2.121  30.765 \n",
       "\n",
       "Coefficients:\n",
       "            Estimate Std. Error t value Pr(>|t|)    \n",
       "(Intercept) 22.48563    0.44173  50.904  < 2e-16 ***\n",
       "crim        -0.35208    0.04259  -8.267 1.24e-15 ***\n",
       "zn           0.11611    0.01571   7.392 6.09e-13 ***\n",
       "---\n",
       "Signif. codes:  0 ‘***’ 0.001 ‘**’ 0.01 ‘*’ 0.05 ‘.’ 0.1 ‘ ’ 1\n",
       "\n",
       "Residual standard error: 8.065 on 503 degrees of freedom\n",
       "Multiple R-squared:  0.234,\tAdjusted R-squared:  0.2309 \n",
       "F-statistic: 76.82 on 2 and 503 DF,  p-value: < 2.2e-16\n"
      ]
     },
     "metadata": {},
     "output_type": "display_data"
    }
   ],
   "source": [
    "summary(lm(medv ~ ., data = Boston[,c(all_pairs[,1],14)]))"
   ]
  },
  {
   "cell_type": "markdown",
   "metadata": {
    "id": "9uIBT_MpNFPq"
   },
   "source": [
    "**Step 7:** Now write a loop similar to the one in **Step 4** and find the model with the highest $R^2$ with two predictors."
   ]
  },
  {
   "cell_type": "code",
   "execution_count": null,
   "metadata": {
    "id": "PMCz5uydNrRb"
   },
   "outputs": [],
   "source": []
  },
  {
   "cell_type": "markdown",
   "metadata": {
    "id": "9nQSH0BBNqNn"
   },
   "source": [
    "**Step 8:** Repeat steps 5 to 7 and create a loop that returns the model with the highest value of $R^2$ for $1, 2, \\ldots, 13$ variables. Find a strategy to save the index for the relevant variables in each model, the corresponding $R^2$, and the adjusted $R^2$ for each."
   ]
  },
  {
   "cell_type": "code",
   "execution_count": null,
   "metadata": {
    "id": "eywenhpXMolJ"
   },
   "outputs": [],
   "source": []
  },
  {
   "cell_type": "markdown",
   "metadata": {
    "id": "t-iCg8D4OJ48"
   },
   "source": [
    "**Step 9:** Compare the adjusted $R^2$ for the models in **Step 8** and identify the best subset model."
   ]
  },
  {
   "cell_type": "markdown",
   "metadata": {
    "id": "zDBgZz1-OTmG"
   },
   "source": [
    "### **Painless best subset selection**\n",
    "\n",
    "Now that you have seen one way to implement subset selection, you should be ready to use functions that do this job for you without the need to implement your own loops.\n",
    "\n",
    "We use the library **leaps** to return the best subset model."
   ]
  },
  {
   "cell_type": "code",
   "execution_count": 22,
   "metadata": {
    "colab": {
     "base_uri": "https://localhost:8080/",
     "height": 565
    },
    "id": "TZT15eGtURZ-",
    "outputId": "07572f72-d95d-48b5-c43e-ba24f1222640"
   },
   "outputs": [
    {
     "data": {
      "text/plain": [
       "Subset selection object\n",
       "Call: regsubsets.formula(medv ~ ., data = Boston, nvmax = 13)\n",
       "13 Variables  (and intercept)\n",
       "        Forced in Forced out\n",
       "crim        FALSE      FALSE\n",
       "zn          FALSE      FALSE\n",
       "indus       FALSE      FALSE\n",
       "chas        FALSE      FALSE\n",
       "nox         FALSE      FALSE\n",
       "rm          FALSE      FALSE\n",
       "age         FALSE      FALSE\n",
       "dis         FALSE      FALSE\n",
       "rad         FALSE      FALSE\n",
       "tax         FALSE      FALSE\n",
       "ptratio     FALSE      FALSE\n",
       "black       FALSE      FALSE\n",
       "lstat       FALSE      FALSE\n",
       "1 subsets of each size up to 13\n",
       "Selection Algorithm: exhaustive\n",
       "          crim zn  indus chas nox rm  age dis rad tax ptratio black lstat\n",
       "1  ( 1 )  \" \"  \" \" \" \"   \" \"  \" \" \" \" \" \" \" \" \" \" \" \" \" \"     \" \"   \"*\"  \n",
       "2  ( 1 )  \" \"  \" \" \" \"   \" \"  \" \" \"*\" \" \" \" \" \" \" \" \" \" \"     \" \"   \"*\"  \n",
       "3  ( 1 )  \" \"  \" \" \" \"   \" \"  \" \" \"*\" \" \" \" \" \" \" \" \" \"*\"     \" \"   \"*\"  \n",
       "4  ( 1 )  \" \"  \" \" \" \"   \" \"  \" \" \"*\" \" \" \"*\" \" \" \" \" \"*\"     \" \"   \"*\"  \n",
       "5  ( 1 )  \" \"  \" \" \" \"   \" \"  \"*\" \"*\" \" \" \"*\" \" \" \" \" \"*\"     \" \"   \"*\"  \n",
       "6  ( 1 )  \" \"  \" \" \" \"   \"*\"  \"*\" \"*\" \" \" \"*\" \" \" \" \" \"*\"     \" \"   \"*\"  \n",
       "7  ( 1 )  \" \"  \" \" \" \"   \"*\"  \"*\" \"*\" \" \" \"*\" \" \" \" \" \"*\"     \"*\"   \"*\"  \n",
       "8  ( 1 )  \" \"  \"*\" \" \"   \"*\"  \"*\" \"*\" \" \" \"*\" \" \" \" \" \"*\"     \"*\"   \"*\"  \n",
       "9  ( 1 )  \"*\"  \" \" \" \"   \"*\"  \"*\" \"*\" \" \" \"*\" \"*\" \" \" \"*\"     \"*\"   \"*\"  \n",
       "10  ( 1 ) \"*\"  \"*\" \" \"   \" \"  \"*\" \"*\" \" \" \"*\" \"*\" \"*\" \"*\"     \"*\"   \"*\"  \n",
       "11  ( 1 ) \"*\"  \"*\" \" \"   \"*\"  \"*\" \"*\" \" \" \"*\" \"*\" \"*\" \"*\"     \"*\"   \"*\"  \n",
       "12  ( 1 ) \"*\"  \"*\" \"*\"   \"*\"  \"*\" \"*\" \" \" \"*\" \"*\" \"*\" \"*\"     \"*\"   \"*\"  \n",
       "13  ( 1 ) \"*\"  \"*\" \"*\"   \"*\"  \"*\" \"*\" \"*\" \"*\" \"*\" \"*\" \"*\"     \"*\"   \"*\"  "
      ]
     },
     "metadata": {},
     "output_type": "display_data"
    }
   ],
   "source": [
    "library(leaps)\n",
    "best_models = regsubsets(medv ~ ., data=Boston)\n",
    "summary(best_models)"
   ]
  },
  {
   "cell_type": "markdown",
   "metadata": {
    "id": "PSEXd9gqVccw"
   },
   "source": [
    "The *regsubsets* function returns 8 possible \"best subset\" models.  To return more (or less) models, you can change the argument *nvmax* (by default set to 8) within the summary function.  Therefore, to check the best model with 1 up to 13 variables, we run: "
   ]
  },
  {
   "cell_type": "code",
   "execution_count": 26,
   "metadata": {},
   "outputs": [
    {
     "data": {
      "text/plain": [
       "Subset selection object\n",
       "Call: regsubsets.formula(medv ~ ., data = Boston, nvmax = 13)\n",
       "13 Variables  (and intercept)\n",
       "        Forced in Forced out\n",
       "crim        FALSE      FALSE\n",
       "zn          FALSE      FALSE\n",
       "indus       FALSE      FALSE\n",
       "chas        FALSE      FALSE\n",
       "nox         FALSE      FALSE\n",
       "rm          FALSE      FALSE\n",
       "age         FALSE      FALSE\n",
       "dis         FALSE      FALSE\n",
       "rad         FALSE      FALSE\n",
       "tax         FALSE      FALSE\n",
       "ptratio     FALSE      FALSE\n",
       "black       FALSE      FALSE\n",
       "lstat       FALSE      FALSE\n",
       "1 subsets of each size up to 13\n",
       "Selection Algorithm: exhaustive\n",
       "          crim zn  indus chas nox rm  age dis rad tax ptratio black lstat\n",
       "1  ( 1 )  \" \"  \" \" \" \"   \" \"  \" \" \" \" \" \" \" \" \" \" \" \" \" \"     \" \"   \"*\"  \n",
       "2  ( 1 )  \" \"  \" \" \" \"   \" \"  \" \" \"*\" \" \" \" \" \" \" \" \" \" \"     \" \"   \"*\"  \n",
       "3  ( 1 )  \" \"  \" \" \" \"   \" \"  \" \" \"*\" \" \" \" \" \" \" \" \" \"*\"     \" \"   \"*\"  \n",
       "4  ( 1 )  \" \"  \" \" \" \"   \" \"  \" \" \"*\" \" \" \"*\" \" \" \" \" \"*\"     \" \"   \"*\"  \n",
       "5  ( 1 )  \" \"  \" \" \" \"   \" \"  \"*\" \"*\" \" \" \"*\" \" \" \" \" \"*\"     \" \"   \"*\"  \n",
       "6  ( 1 )  \" \"  \" \" \" \"   \"*\"  \"*\" \"*\" \" \" \"*\" \" \" \" \" \"*\"     \" \"   \"*\"  \n",
       "7  ( 1 )  \" \"  \" \" \" \"   \"*\"  \"*\" \"*\" \" \" \"*\" \" \" \" \" \"*\"     \"*\"   \"*\"  \n",
       "8  ( 1 )  \" \"  \"*\" \" \"   \"*\"  \"*\" \"*\" \" \" \"*\" \" \" \" \" \"*\"     \"*\"   \"*\"  \n",
       "9  ( 1 )  \"*\"  \" \" \" \"   \"*\"  \"*\" \"*\" \" \" \"*\" \"*\" \" \" \"*\"     \"*\"   \"*\"  \n",
       "10  ( 1 ) \"*\"  \"*\" \" \"   \" \"  \"*\" \"*\" \" \" \"*\" \"*\" \"*\" \"*\"     \"*\"   \"*\"  \n",
       "11  ( 1 ) \"*\"  \"*\" \" \"   \"*\"  \"*\" \"*\" \" \" \"*\" \"*\" \"*\" \"*\"     \"*\"   \"*\"  \n",
       "12  ( 1 ) \"*\"  \"*\" \"*\"   \"*\"  \"*\" \"*\" \" \" \"*\" \"*\" \"*\" \"*\"     \"*\"   \"*\"  \n",
       "13  ( 1 ) \"*\"  \"*\" \"*\"   \"*\"  \"*\" \"*\" \"*\" \"*\" \"*\" \"*\" \"*\"     \"*\"   \"*\"  "
      ]
     },
     "metadata": {},
     "output_type": "display_data"
    }
   ],
   "source": [
    "best_models = regsubsets(medv ~ ., data=Boston,  nvmax = 13)\n",
    "summary(best_models)"
   ]
  },
  {
   "cell_type": "markdown",
   "metadata": {},
   "source": [
    "To check the values that we can obtain from this summary object, you can use the *names* function:"
   ]
  },
  {
   "cell_type": "code",
   "execution_count": 23,
   "metadata": {
    "colab": {
     "base_uri": "https://localhost:8080/",
     "height": 34
    },
    "id": "uYZuRIuSUSHw",
    "outputId": "66ccfb05-a460-451a-ee0b-23a5147ff4d7"
   },
   "outputs": [
    {
     "data": {
      "text/html": [
       "<style>\n",
       ".list-inline {list-style: none; margin:0; padding: 0}\n",
       ".list-inline>li {display: inline-block}\n",
       ".list-inline>li:not(:last-child)::after {content: \"\\00b7\"; padding: 0 .5ex}\n",
       "</style>\n",
       "<ol class=list-inline><li>'which'</li><li>'rsq'</li><li>'rss'</li><li>'adjr2'</li><li>'cp'</li><li>'bic'</li><li>'outmat'</li><li>'obj'</li></ol>\n"
      ],
      "text/latex": [
       "\\begin{enumerate*}\n",
       "\\item 'which'\n",
       "\\item 'rsq'\n",
       "\\item 'rss'\n",
       "\\item 'adjr2'\n",
       "\\item 'cp'\n",
       "\\item 'bic'\n",
       "\\item 'outmat'\n",
       "\\item 'obj'\n",
       "\\end{enumerate*}\n"
      ],
      "text/markdown": [
       "1. 'which'\n",
       "2. 'rsq'\n",
       "3. 'rss'\n",
       "4. 'adjr2'\n",
       "5. 'cp'\n",
       "6. 'bic'\n",
       "7. 'outmat'\n",
       "8. 'obj'\n",
       "\n",
       "\n"
      ],
      "text/plain": [
       "[1] \"which\"  \"rsq\"    \"rss\"    \"adjr2\"  \"cp\"     \"bic\"    \"outmat\" \"obj\"   "
      ]
     },
     "metadata": {},
     "output_type": "display_data"
    }
   ],
   "source": [
    "res_summary = summary(best_models)\n",
    "names(res_summary)"
   ]
  },
  {
   "cell_type": "markdown",
   "metadata": {},
   "source": [
    "From which we can see that we can obtain the adjusted $R^2$ values for the models using the *adjr2* component of our *summary* object: "
   ]
  },
  {
   "cell_type": "code",
   "execution_count": 24,
   "metadata": {},
   "outputs": [
    {
     "data": {
      "text/html": [
       "<style>\n",
       ".list-inline {list-style: none; margin:0; padding: 0}\n",
       ".list-inline>li {display: inline-block}\n",
       ".list-inline>li:not(:last-child)::after {content: \"\\00b7\"; padding: 0 .5ex}\n",
       "</style>\n",
       "<ol class=list-inline><li>0.543241825954707</li><li>0.637124475470124</li><li>0.676703587413271</li><li>0.687835108484128</li><li>0.705170182246496</li><li>0.712356667191387</li><li>0.718256040715851</li><li>0.722207180409456</li><li>0.725274261663957</li><li>0.729914928077185</li><li>0.734805772327456</li><li>0.734328223849918</li><li>0.733789726372463</li></ol>\n"
      ],
      "text/latex": [
       "\\begin{enumerate*}\n",
       "\\item 0.543241825954707\n",
       "\\item 0.637124475470124\n",
       "\\item 0.676703587413271\n",
       "\\item 0.687835108484128\n",
       "\\item 0.705170182246496\n",
       "\\item 0.712356667191387\n",
       "\\item 0.718256040715851\n",
       "\\item 0.722207180409456\n",
       "\\item 0.725274261663957\n",
       "\\item 0.729914928077185\n",
       "\\item 0.734805772327456\n",
       "\\item 0.734328223849918\n",
       "\\item 0.733789726372463\n",
       "\\end{enumerate*}\n"
      ],
      "text/markdown": [
       "1. 0.543241825954707\n",
       "2. 0.637124475470124\n",
       "3. 0.676703587413271\n",
       "4. 0.687835108484128\n",
       "5. 0.705170182246496\n",
       "6. 0.712356667191387\n",
       "7. 0.718256040715851\n",
       "8. 0.722207180409456\n",
       "9. 0.725274261663957\n",
       "10. 0.729914928077185\n",
       "11. 0.734805772327456\n",
       "12. 0.734328223849918\n",
       "13. 0.733789726372463\n",
       "\n",
       "\n"
      ],
      "text/plain": [
       " [1] 0.5432418 0.6371245 0.6767036 0.6878351 0.7051702 0.7123567 0.7182560\n",
       " [8] 0.7222072 0.7252743 0.7299149 0.7348058 0.7343282 0.7337897"
      ]
     },
     "metadata": {},
     "output_type": "display_data"
    }
   ],
   "source": [
    "res_summary$adjr2"
   ]
  },
  {
   "cell_type": "markdown",
   "metadata": {
    "id": "blesVVj4WKj9"
   },
   "source": [
    "and to identify the model with the highest adjusted $R^2$, we use the function **which.max**:"
   ]
  },
  {
   "cell_type": "code",
   "execution_count": 25,
   "metadata": {
    "colab": {
     "base_uri": "https://localhost:8080/",
     "height": 34
    },
    "id": "Cga8g9VQVh8s",
    "outputId": "21a69136-c00d-4826-c22a-133ed06793bb"
   },
   "outputs": [
    {
     "data": {
      "text/html": [
       "11"
      ],
      "text/latex": [
       "11"
      ],
      "text/markdown": [
       "11"
      ],
      "text/plain": [
       "[1] 11"
      ]
     },
     "metadata": {},
     "output_type": "display_data"
    }
   ],
   "source": [
    "which.max(res_summary$adjr2)"
   ]
  },
  {
   "cell_type": "markdown",
   "metadata": {
    "id": "OcR5aDclW2aX"
   },
   "source": [
    "The coefficients for model 11 are then given by:"
   ]
  },
  {
   "cell_type": "code",
   "execution_count": 27,
   "metadata": {
    "colab": {
     "base_uri": "https://localhost:8080/"
    },
    "id": "bBOciOqAWSmp",
    "outputId": "663f2d90-af0d-4afa-a443-539c0bf307ef"
   },
   "outputs": [
    {
     "name": "stdout",
     "output_type": "stream",
     "text": [
      "  (Intercept)          crim            zn          chas           nox \n",
      " 36.341145004  -0.108413345   0.045844929   2.718716303 -17.376023429 \n",
      "           rm           dis           rad           tax       ptratio \n",
      "  3.801578840  -1.492711460   0.299608454  -0.011777973  -0.946524570 \n",
      "        black         lstat \n",
      "  0.009290845  -0.522553457 \n"
     ]
    }
   ],
   "source": [
    "print(coef(best_models,11))"
   ]
  },
  {
   "cell_type": "markdown",
   "metadata": {},
   "source": [
    "We can construct the linear model corresponding to these variable as follows using:"
   ]
  },
  {
   "cell_type": "code",
   "execution_count": 28,
   "metadata": {},
   "outputs": [
    {
     "data": {
      "text/plain": [
       "\n",
       "Call:\n",
       "lm(formula = medv ~ crim + zn + chas + nox + rm + dis + rad + \n",
       "    tax + ptratio + black + lstat, data = Boston)\n",
       "\n",
       "Coefficients:\n",
       "(Intercept)         crim           zn         chas          nox           rm  \n",
       "  36.341145    -0.108413     0.045845     2.718716   -17.376023     3.801579  \n",
       "        dis          rad          tax      ptratio        black        lstat  \n",
       "  -1.492711     0.299608    -0.011778    -0.946525     0.009291    -0.522553  \n"
      ]
     },
     "metadata": {},
     "output_type": "display_data"
    }
   ],
   "source": [
    "lm(medv~crim+zn+chas+nox+rm+dis+rad+tax+ptratio+black+lstat, data=Boston)"
   ]
  },
  {
   "cell_type": "markdown",
   "metadata": {},
   "source": [
    "Alternatively, we can generate this linear model by reformulating the coefficient names in the best model into an expression that can be read by *lm*.  To do this, notice that we can call the names of the coefficients in the best model using *names*:"
   ]
  },
  {
   "cell_type": "code",
   "execution_count": 29,
   "metadata": {},
   "outputs": [
    {
     "data": {
      "text/html": [
       "<style>\n",
       ".list-inline {list-style: none; margin:0; padding: 0}\n",
       ".list-inline>li {display: inline-block}\n",
       ".list-inline>li:not(:last-child)::after {content: \"\\00b7\"; padding: 0 .5ex}\n",
       "</style>\n",
       "<ol class=list-inline><li>'(Intercept)'</li><li>'crim'</li><li>'zn'</li><li>'chas'</li><li>'nox'</li><li>'rm'</li><li>'dis'</li><li>'rad'</li><li>'tax'</li><li>'ptratio'</li><li>'black'</li><li>'lstat'</li></ol>\n"
      ],
      "text/latex": [
       "\\begin{enumerate*}\n",
       "\\item '(Intercept)'\n",
       "\\item 'crim'\n",
       "\\item 'zn'\n",
       "\\item 'chas'\n",
       "\\item 'nox'\n",
       "\\item 'rm'\n",
       "\\item 'dis'\n",
       "\\item 'rad'\n",
       "\\item 'tax'\n",
       "\\item 'ptratio'\n",
       "\\item 'black'\n",
       "\\item 'lstat'\n",
       "\\end{enumerate*}\n"
      ],
      "text/markdown": [
       "1. '(Intercept)'\n",
       "2. 'crim'\n",
       "3. 'zn'\n",
       "4. 'chas'\n",
       "5. 'nox'\n",
       "6. 'rm'\n",
       "7. 'dis'\n",
       "8. 'rad'\n",
       "9. 'tax'\n",
       "10. 'ptratio'\n",
       "11. 'black'\n",
       "12. 'lstat'\n",
       "\n",
       "\n"
      ],
      "text/plain": [
       " [1] \"(Intercept)\" \"crim\"        \"zn\"          \"chas\"        \"nox\"        \n",
       " [6] \"rm\"          \"dis\"         \"rad\"         \"tax\"         \"ptratio\"    \n",
       "[11] \"black\"       \"lstat\"      "
      ]
     },
     "metadata": {},
     "output_type": "display_data"
    }
   ],
   "source": [
    "names(coef(best_models,11))"
   ]
  },
  {
   "cell_type": "markdown",
   "metadata": {},
   "source": [
    "We can then create a string expression of the model formula we require using *paste*, where we remove the first element as we do not wish to include the word _intercept_ within our model expression formula, and then link the words using _+_:"
   ]
  },
  {
   "cell_type": "code",
   "execution_count": 30,
   "metadata": {},
   "outputs": [
    {
     "data": {
      "text/html": [
       "'crim+zn+chas+nox+rm+dis+rad+tax+ptratio+black+lstat'"
      ],
      "text/latex": [
       "'crim+zn+chas+nox+rm+dis+rad+tax+ptratio+black+lstat'"
      ],
      "text/markdown": [
       "'crim+zn+chas+nox+rm+dis+rad+tax+ptratio+black+lstat'"
      ],
      "text/plain": [
       "[1] \"crim+zn+chas+nox+rm+dis+rad+tax+ptratio+black+lstat\""
      ]
     },
     "metadata": {},
     "output_type": "display_data"
    }
   ],
   "source": [
    "paste(names(coef(best_models,11))[-1],collapse=\"+\")"
   ]
  },
  {
   "cell_type": "markdown",
   "metadata": {},
   "source": [
    "We can then use this expression to *reformulate* the required linear model expression with response *medv*, with the argument *data* being used within *lm* as usual:"
   ]
  },
  {
   "cell_type": "code",
   "execution_count": 31,
   "metadata": {
    "colab": {
     "base_uri": "https://localhost:8080/",
     "height": 477
    },
    "id": "HwyzzYP1W9-o",
    "outputId": "1cee1317-572c-4e3c-a8f0-8ecef2a8fce6",
    "scrolled": true
   },
   "outputs": [
    {
     "data": {
      "text/plain": [
       "\n",
       "Call:\n",
       "lm(formula = reformulate(paste(names(coef(best_models, 11))[-1], \n",
       "    collapse = \"+\"), \"medv\"), data = Boston)\n",
       "\n",
       "Residuals:\n",
       "     Min       1Q   Median       3Q      Max \n",
       "-15.5984  -2.7386  -0.5046   1.7273  26.2373 \n",
       "\n",
       "Coefficients:\n",
       "              Estimate Std. Error t value Pr(>|t|)    \n",
       "(Intercept)  36.341145   5.067492   7.171 2.73e-12 ***\n",
       "crim         -0.108413   0.032779  -3.307 0.001010 ** \n",
       "zn            0.045845   0.013523   3.390 0.000754 ***\n",
       "chas          2.718716   0.854240   3.183 0.001551 ** \n",
       "nox         -17.376023   3.535243  -4.915 1.21e-06 ***\n",
       "rm            3.801579   0.406316   9.356  < 2e-16 ***\n",
       "dis          -1.492711   0.185731  -8.037 6.84e-15 ***\n",
       "rad           0.299608   0.063402   4.726 3.00e-06 ***\n",
       "tax          -0.011778   0.003372  -3.493 0.000521 ***\n",
       "ptratio      -0.946525   0.129066  -7.334 9.24e-13 ***\n",
       "black         0.009291   0.002674   3.475 0.000557 ***\n",
       "lstat        -0.522553   0.047424 -11.019  < 2e-16 ***\n",
       "---\n",
       "Signif. codes:  0 ‘***’ 0.001 ‘**’ 0.01 ‘*’ 0.05 ‘.’ 0.1 ‘ ’ 1\n",
       "\n",
       "Residual standard error: 4.736 on 494 degrees of freedom\n",
       "Multiple R-squared:  0.7406,\tAdjusted R-squared:  0.7348 \n",
       "F-statistic: 128.2 on 11 and 494 DF,  p-value: < 2.2e-16\n"
      ]
     },
     "metadata": {},
     "output_type": "display_data"
    }
   ],
   "source": [
    "best_ss <- lm(reformulate(paste(names(coef(best_models,11))[-1],collapse=\"+\"),'medv'),data=Boston)\n",
    "summary( best_ss )"
   ]
  },
  {
   "cell_type": "markdown",
   "metadata": {
    "id": "Er5Mo-xXy_dZ"
   },
   "source": [
    "### Forwards and Backwards Subset Selection\n",
    "\n",
    "Forwards and backwards subset selection are similar techniques which do not make use of every possible combination of variables.\n",
    "\n",
    "**Forward selection**\n",
    "\n",
    "In the case of forwards subset selection, we start with the null model, and determine which of the $p$ single-predictor models has the highest $R^2$ value. We designate this model $M_1$.\n",
    "\n",
    "Next, rather than fitting each of the $p \\choose 2$ two-predictor models, we add each of the remaining $p-1$ predictor variables to $M_1$ and determine which of these models has the highest $R^2$ value. We then designate this model $M_2$.  We then generate $p-2$ models with three variables by adding each of the remaining $p-2$ variables to the variables included in $M_2$.  The model with highest $R^2$ value is denoted $M_3$.\n",
    "\n",
    "We continue in this fashion until we have our set of $p$ models $M_0,M_1,\\ldots,M_p$, from which we choose the \"best\" model using $C_p$, BIC, adjusted $R^2$, etc.\n",
    "\n",
    "**Backward selection**\n",
    "\n",
    "In the case of backwards subset selection, we start from the *full* model $M_p$ and *remove* a single variable at a time.\n",
    "\n",
    "The model from this set of $p$ models which has the highest $R^2$ value is designated $M_{p-1}$. We continue in this fashion until we reach the null model, $M_0$. We again choose the best model from $M_0,M_1,\\ldots,M_p$ based on $C_p$, BIC, adjusted $R^2$, etc.  \n",
    "\n",
    "\n",
    "#### Implementation using Leaps\n",
    "\n",
    "We can use the **leaps** package and *regsubsets* to conduct forward and backward selection, we just need to specify the method. To perform forward selection and select the best model using the adjust $R^2$, we include our method choice in the function call as follows."
   ]
  },
  {
   "cell_type": "code",
   "execution_count": 34,
   "metadata": {
    "colab": {
     "base_uri": "https://localhost:8080/",
     "height": 512
    },
    "id": "SKqEoM360DaP",
    "outputId": "ce6a514c-9903-410e-81d4-7424074a98ab"
   },
   "outputs": [
    {
     "data": {
      "text/plain": [
       "Subset selection object\n",
       "Call: regsubsets.formula(medv ~ ., data = Boston, method = \"forward\", \n",
       "    nvmax = 13)\n",
       "13 Variables  (and intercept)\n",
       "        Forced in Forced out\n",
       "crim        FALSE      FALSE\n",
       "zn          FALSE      FALSE\n",
       "indus       FALSE      FALSE\n",
       "chas        FALSE      FALSE\n",
       "nox         FALSE      FALSE\n",
       "rm          FALSE      FALSE\n",
       "age         FALSE      FALSE\n",
       "dis         FALSE      FALSE\n",
       "rad         FALSE      FALSE\n",
       "tax         FALSE      FALSE\n",
       "ptratio     FALSE      FALSE\n",
       "black       FALSE      FALSE\n",
       "lstat       FALSE      FALSE\n",
       "1 subsets of each size up to 13\n",
       "Selection Algorithm: forward\n",
       "          crim zn  indus chas nox rm  age dis rad tax ptratio black lstat\n",
       "1  ( 1 )  \" \"  \" \" \" \"   \" \"  \" \" \" \" \" \" \" \" \" \" \" \" \" \"     \" \"   \"*\"  \n",
       "2  ( 1 )  \" \"  \" \" \" \"   \" \"  \" \" \"*\" \" \" \" \" \" \" \" \" \" \"     \" \"   \"*\"  \n",
       "3  ( 1 )  \" \"  \" \" \" \"   \" \"  \" \" \"*\" \" \" \" \" \" \" \" \" \"*\"     \" \"   \"*\"  \n",
       "4  ( 1 )  \" \"  \" \" \" \"   \" \"  \" \" \"*\" \" \" \"*\" \" \" \" \" \"*\"     \" \"   \"*\"  \n",
       "5  ( 1 )  \" \"  \" \" \" \"   \" \"  \"*\" \"*\" \" \" \"*\" \" \" \" \" \"*\"     \" \"   \"*\"  \n",
       "6  ( 1 )  \" \"  \" \" \" \"   \"*\"  \"*\" \"*\" \" \" \"*\" \" \" \" \" \"*\"     \" \"   \"*\"  \n",
       "7  ( 1 )  \" \"  \" \" \" \"   \"*\"  \"*\" \"*\" \" \" \"*\" \" \" \" \" \"*\"     \"*\"   \"*\"  \n",
       "8  ( 1 )  \" \"  \"*\" \" \"   \"*\"  \"*\" \"*\" \" \" \"*\" \" \" \" \" \"*\"     \"*\"   \"*\"  \n",
       "9  ( 1 )  \"*\"  \"*\" \" \"   \"*\"  \"*\" \"*\" \" \" \"*\" \" \" \" \" \"*\"     \"*\"   \"*\"  \n",
       "10  ( 1 ) \"*\"  \"*\" \" \"   \"*\"  \"*\" \"*\" \" \" \"*\" \"*\" \" \" \"*\"     \"*\"   \"*\"  \n",
       "11  ( 1 ) \"*\"  \"*\" \" \"   \"*\"  \"*\" \"*\" \" \" \"*\" \"*\" \"*\" \"*\"     \"*\"   \"*\"  \n",
       "12  ( 1 ) \"*\"  \"*\" \"*\"   \"*\"  \"*\" \"*\" \" \" \"*\" \"*\" \"*\" \"*\"     \"*\"   \"*\"  \n",
       "13  ( 1 ) \"*\"  \"*\" \"*\"   \"*\"  \"*\" \"*\" \"*\" \"*\" \"*\" \"*\" \"*\"     \"*\"   \"*\"  "
      ]
     },
     "metadata": {},
     "output_type": "display_data"
    }
   ],
   "source": [
    "library(leaps)\n",
    "best_forward = regsubsets(medv ~ ., data=Boston, method=\"forward\", nvmax = 13)\n",
    "summary(best_forward)"
   ]
  },
  {
   "cell_type": "code",
   "execution_count": 35,
   "metadata": {
    "colab": {
     "base_uri": "https://localhost:8080/"
    },
    "id": "nW7DaTSv0NmZ",
    "outputId": "e990a7aa-91b5-4d0e-e3a9-f864cdafe4ee"
   },
   "outputs": [
    {
     "name": "stdout",
     "output_type": "stream",
     "text": [
      "  (Intercept)          crim            zn          chas           nox \n",
      " 36.341145004  -0.108413345   0.045844929   2.718716303 -17.376023429 \n",
      "           rm           dis           rad           tax       ptratio \n",
      "  3.801578840  -1.492711460   0.299608454  -0.011777973  -0.946524570 \n",
      "        black         lstat \n",
      "  0.009290845  -0.522553457 \n"
     ]
    }
   ],
   "source": [
    "forward_summary = summary(best_forward)\n",
    "forward_adjr2=which.max(forward_summary$adjr2)\n",
    "print(coef(best_forward,forward_adjr2))"
   ]
  },
  {
   "cell_type": "code",
   "execution_count": 36,
   "metadata": {
    "colab": {
     "base_uri": "https://localhost:8080/",
     "height": 477
    },
    "id": "yCgfdaUD1KTL",
    "outputId": "6685a37a-680c-40d5-e729-5c29cb7e7055"
   },
   "outputs": [
    {
     "data": {
      "text/plain": [
       "\n",
       "Call:\n",
       "lm(formula = reformulate(paste(names(coef(best_forward, forward_adjr2))[-1], \n",
       "    collapse = \"+\"), \"medv\"), data = Boston)\n",
       "\n",
       "Residuals:\n",
       "     Min       1Q   Median       3Q      Max \n",
       "-15.5984  -2.7386  -0.5046   1.7273  26.2373 \n",
       "\n",
       "Coefficients:\n",
       "              Estimate Std. Error t value Pr(>|t|)    \n",
       "(Intercept)  36.341145   5.067492   7.171 2.73e-12 ***\n",
       "crim         -0.108413   0.032779  -3.307 0.001010 ** \n",
       "zn            0.045845   0.013523   3.390 0.000754 ***\n",
       "chas          2.718716   0.854240   3.183 0.001551 ** \n",
       "nox         -17.376023   3.535243  -4.915 1.21e-06 ***\n",
       "rm            3.801579   0.406316   9.356  < 2e-16 ***\n",
       "dis          -1.492711   0.185731  -8.037 6.84e-15 ***\n",
       "rad           0.299608   0.063402   4.726 3.00e-06 ***\n",
       "tax          -0.011778   0.003372  -3.493 0.000521 ***\n",
       "ptratio      -0.946525   0.129066  -7.334 9.24e-13 ***\n",
       "black         0.009291   0.002674   3.475 0.000557 ***\n",
       "lstat        -0.522553   0.047424 -11.019  < 2e-16 ***\n",
       "---\n",
       "Signif. codes:  0 ‘***’ 0.001 ‘**’ 0.01 ‘*’ 0.05 ‘.’ 0.1 ‘ ’ 1\n",
       "\n",
       "Residual standard error: 4.736 on 494 degrees of freedom\n",
       "Multiple R-squared:  0.7406,\tAdjusted R-squared:  0.7348 \n",
       "F-statistic: 128.2 on 11 and 494 DF,  p-value: < 2.2e-16\n"
      ]
     },
     "metadata": {},
     "output_type": "display_data"
    }
   ],
   "source": [
    "summary(lm(reformulate(paste(names(coef(best_forward,forward_adjr2))[-1],collapse=\"+\"),'medv'),data=Boston))"
   ]
  },
  {
   "cell_type": "markdown",
   "metadata": {
    "id": "4fURU8LX1jUO"
   },
   "source": [
    "In this case, the forward selection process leads to the same model as the one obtained using best subset selection.\n",
    "\n",
    "**Exercise:** Repeat the process above using *backward* as the method option. How different is this model from the best subset and forward models?"
   ]
  },
  {
   "cell_type": "code",
   "execution_count": null,
   "metadata": {
    "id": "LBfCzBeD1RT2"
   },
   "outputs": [],
   "source": []
  }
 ],
 "metadata": {
  "colab": {
   "provenance": []
  },
  "kernelspec": {
   "display_name": "R 4.3.3",
   "language": "R",
   "name": "ir4.4.0"
  },
  "language_info": {
   "codemirror_mode": "r",
   "file_extension": ".r",
   "mimetype": "text/x-r-source",
   "name": "R",
   "pygments_lexer": "r",
   "version": "4.3.3"
  }
 },
 "nbformat": 4,
 "nbformat_minor": 4
}
